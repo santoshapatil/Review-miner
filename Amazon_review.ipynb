{
  "nbformat": 4,
  "nbformat_minor": 0,
  "metadata": {
    "colab": {
      "name": "Amazon_review.ipynb",
      "provenance": [],
      "collapsed_sections": [],
      "toc_visible": true,
      "authorship_tag": "ABX9TyNyc1V6YnTZDQktkAUsvzx5"
    },
    "kernelspec": {
      "name": "python3",
      "display_name": "Python 3"
    }
  },
  "cells": [
    {
      "cell_type": "markdown",
      "metadata": {
        "id": "nXVnMDSb_2zG"
      },
      "source": [
        "# **Amazon product Review Analysis**"
      ]
    },
    {
      "cell_type": "markdown",
      "metadata": {
        "id": "kL5iXzzwAEdk"
      },
      "source": [
        "### 1 Web scraping product review"
      ]
    },
    {
      "cell_type": "code",
      "metadata": {
        "id": "4Nud_RIgAOoV"
      },
      "source": [
        "\n",
        "import time\n",
        "import re\n",
        "from bs4 import BeautifulSoup\n",
        "import requests\n",
        "import os\n",
        "import pandas as pd\n",
        "from dateutil.parser import parse\n"
      ],
      "execution_count": 2,
      "outputs": []
    },
    {
      "cell_type": "code",
      "metadata": {
        "id": "TtXaxja7NgdR"
      },
      "source": [
        "def getReview_link(s,u):\n",
        "  if s !=\"stop\":\n",
        "    soup= BeautifulSoup(page.content, 'html.parser')\n",
        "    rev=soup.find('div',id=\"reviews-medley-footer\")\n",
        "    t=rev.find('a').get('href')\n",
        "    r_u=\"https://www.amazon.in\"+t+\"&sortBy=recent\"\n",
        "    return r_u"
      ],
      "execution_count": 4,
      "outputs": []
    },
    {
      "cell_type": "code",
      "metadata": {
        "id": "pxC_OGfAPnUI"
      },
      "source": [
        " \n",
        "def getReviews(url,pg):\n",
        " \n",
        "  ur=url+\"&pageNumber=\"+str(pg)+\"&sortBy=recent\"\n",
        "  page = requests.get(ur,cookies=cookie,headers=header)\n",
        "  r_h=[]\n",
        "  r_b=[]\n",
        "  r_t=[]\n",
        " \n",
        "  if page.status_code==200:\n",
        "    soup= BeautifulSoup(page.content, 'html.parser')\n",
        "    r=soup.find('div',id=\"cm_cr-review_list\")\n",
        "    \n",
        "    if r ==\"f\":\n",
        "       return r_h,r_b,r_t\n",
        "    else:\n",
        " \n",
        "      ty=soup.find('div',class_=\"a-section a-spacing-none review-views celwidget\")\n",
        "      \n",
        "      rt=ty.find_all(\"a\",{'data-hook':\"review-title\"})\n",
        "      \n",
        "      for i in rt:\n",
        "          if i is None:\n",
        "            r_h.append(None)\n",
        "          else:\n",
        "            v=i.get_text()\n",
        "            v=v.strip(\"\\n\")\n",
        "            \n",
        "            r_h.append(v)      \n",
        "      rb=soup.find_all(\"span\",{'data-hook':\"review-body\"})\n",
        "      for i in rb:\n",
        "        if i is None:\n",
        "          r_b.append(None)\n",
        "        else:\n",
        "          v=i.get_text()\n",
        "          v=v.strip(\"\\n\")\n",
        "          r_b.append(v)\n",
        "      rti=soup.find_all(\"span\",{'data-hook':\"review-date\"})\n",
        "      for i in rti:\n",
        "        if i is None:\n",
        "          r_t.append(None)\n",
        "        else:\n",
        "          \n",
        "          t=i.get_text()\n",
        "          date=parse(t,fuzzy=True,dayfirst=True)\n",
        "          r_t.append(date)\n",
        "      \n",
        "      nextp=soup.find(\"ul\",class_=\"a-pagination\")\n",
        "      npg=0\n",
        "      if (nextp.find(\"li\",class_=\"a-disabled a-last\")) is not None:\n",
        "        return r_h,r_b,r_t,npg\n",
        "      elif (nextp.find(\"li\",class_=\"a-last\")) is not None:\n",
        "          \n",
        "          npg=pg+1\n",
        "          return r_h,r_b,r_t,npg\n",
        "\n",
        "\n",
        "\n",
        "      "
      ],
      "execution_count": 5,
      "outputs": []
    },
    {
      "cell_type": "code",
      "metadata": {
        "id": "tVJNzQxG_vOS",
        "colab": {
          "base_uri": "https://localhost:8080/",
          "height": 1000
        },
        "outputId": "c8944084-2841-4c69-b973-96cc3f1eda8a"
      },
      "source": [
        "cookie={}\n",
        "header={'User-Agent': 'Mozilla/5.0 (Windows NT 10.0; Win64; x64) AppleWebKit/537.36 (KHTML, like Gecko) Chrome/77.0.3865.90 Safari/537.36'}\n",
        "p=\"https://www.amazon.in/JioFi-JDR740-150Mbps-Wireless-Portable/dp/B08DRR5D14/?_encoding=UTF8&pd_rd_w=dLzYN&pf_rd_p=d67307d4-aeda-4774-98a8-bd9f829b8ea9&pf_rd_r=FPN8WJPZMV2YZPEH5436&pd_rd_r=e313ff79-c3e1-4102-b8ac-26d87e6a82fa&pd_rd_wg=EYNIk&ref_=pd_gw_ci_mcx_mr_hp_d\"\n",
        "#p=\"https://www.amazon.in/dp/B07JWV47JW\"\n",
        "Reviews=pd.DataFrame()\n",
        "page = requests.get(p,cookies=cookie,headers=header)\n",
        "if page.status_code==200:\n",
        "   st= page\n",
        "else:\n",
        "   st=\"stop\"\n",
        "H=[]\n",
        "B=[]\n",
        "D=[]\n",
        "rev_link=getReview_link(st,p)\n",
        "print(rev_link)\n",
        "pg=1\n",
        "ntpg=1\n",
        "while (pg>=ntpg):\n",
        "   print(pg)\n",
        "   r_t=[]\n",
        "   r_h=[]\n",
        "   r_b=[]\n",
        "   r_h,r_b,r_t,ntpg=getReviews(rev_link,pg)\n",
        "   print(r_h,r_b,r_t,ntpg)\n",
        "   H.extend(r_h)\n",
        "   B.extend(r_b)\n",
        "   D.extend(r_t)\n",
        "   if ntpg>pg:\n",
        "      pg=ntpg\n",
        "      continue\n",
        "   else:\n",
        "      break\n",
        "Reviews=pd.DataFrame(({\"Review_title\":H,\n",
        "         \"Review_body\":B,\n",
        "         \"Review_date\":D}))\n",
        "Reviews"
      ],
      "execution_count": 6,
      "outputs": [
        {
          "output_type": "stream",
          "text": [
            "https://www.amazon.in/JioFi-JDR740-150Mbps-Wireless-Portable/product-reviews/B08DRR5D14/ref=cm_cr_dp_d_show_all_btm?ie=UTF8&reviewerType=all_reviews&sortBy=recent\n",
            "1\n",
            "['the signals are pathetic.', '\\U0001f928\\U0001f928\\U0001f928\\U0001f928\\U0001f928\\U0001f928', \"Don't buy waste of money\", 'Old hardware, frequently restarting and unusable.', 'Sufficient for WFH', 'Not working properly not good condition', 'Not good.', 'Network not working and no separate data pack for dongal', 'Waste of money.', 'Guys this product is very nice'] ['  the signals are pathetic.', '  🙄🙄🙄🙄🙄', \"  Very bad. Doesn't  give speed of even 1kb/sec.\", '  Initially it was good, after  2 weeks it started restarting very frequently like every minute and its unusable. And the hardware is also 2017 model. Its better to mention the model year so the customer can decide easily while buying.I would not recommend this to others. Waste of money.', '  The speed is sufficient for WFH. We can watch YouTube without buffering.', '  Difficult to install', '  It has to be ver close. Place it little away and no signals.', '  Network not working and no separate data pack for dongal', '  Worst product.', '  Yhaa this product is  very good'] [datetime.datetime(2020, 12, 2, 0, 0), datetime.datetime(2020, 12, 1, 0, 0), datetime.datetime(2020, 12, 1, 0, 0), datetime.datetime(2020, 12, 1, 0, 0), datetime.datetime(2020, 12, 1, 0, 0), datetime.datetime(2020, 12, 1, 0, 0), datetime.datetime(2020, 12, 1, 0, 0), datetime.datetime(2020, 12, 1, 0, 0), datetime.datetime(2020, 12, 1, 0, 0), datetime.datetime(2020, 11, 30, 0, 0)] 2\n",
            "2\n",
            "[\"Don't buy this device\", 'Runs well .. no need 2 install', 'Very bad SPEED', 'Good One', 'Good', 'Go for it', 'My first day use', 'Good', 'Awesome 😊', 'Worst worst worst'] ['  Very very poor mechanism. Over heating the device. It was worked for only 1 day. Called to customer care and logged complaint and given the replacement for the same device', '  jus plug it in and surf ... ur well 2 go in seconds... works fine... 2 months now no problems', '  Very Bad Speed for this devise.', '  Hi,The product Delivery is so fast thanks to Amazon. * No issues found with the device. Works Perfectly. * 5 Month data offer worked for me (Note - Put your SIM-only in jiofi to avail of this offer. Do recharge as per the instruction) * Speed-wise not getting 150 Mbps. In my area, I m getting only 2-3 Mbps download and 1.0 upload speed.  Check the JIO sim range before buying.', '  Good', \"  Good.. product, it increases the internet speed as computer to phone, after experiencing three days I'm writing this\", '  Easy to installGood productWifi signal is good', '  Good', '  Genuine and good quality product, Worth buying.', '  If i can give rating in minus, i would love to do it. Pathetic speed as compare to advertisement of 100 mbps. Dont waste your time on this.'] [datetime.datetime(2020, 11, 30, 0, 0), datetime.datetime(2020, 11, 30, 0, 0), datetime.datetime(2020, 11, 30, 0, 0), datetime.datetime(2020, 11, 30, 0, 0), datetime.datetime(2020, 11, 30, 0, 0), datetime.datetime(2020, 11, 30, 0, 0), datetime.datetime(2020, 11, 30, 0, 0), datetime.datetime(2020, 11, 29, 0, 0), datetime.datetime(2020, 11, 29, 0, 0), datetime.datetime(2020, 11, 29, 0, 0)] 3\n",
            "3\n",
            "['Awesome 😙😁', 'Nice product', 'Very good product from JIO', 'Average, Effective price 1500 with New SIM', 'Subscription & Sim Charges Are Extra !', 'Good to buy', 'Very good', 'Good', 'good one', 'Weak signal'] ['  Awesome 😙😁', '  Easy to install', '  Perfect wifi router... Very good signal and ofcource high speed ...', \"  Slightly better than mobile hotspot.Pros5 months extra data with 199 FRCNo charging or battery change requiredExtremely portablePower adapter includedConsAverage built quality.No App control (Available with Huwai).No external antena support.Made in ChinaConclusionIf you are planing to buy a new SIM (cost 199+99), And can't afford more than ₹ 2000 Go for this JioFi JDR740.Otherwise go for Huwai 4G routers, better connectivity, can be used with any other networks, Support External antena.\", '  This price is ONLY for the device. You need to buy sim + subscription then after.', '  Good product worth of cost', '  Product is good but signal is weak every time. When added more than two devices then speed is very slow. No battery and easy to use. Overall product if fair.', '  OK', '  it is easy to install and use. pretty good in look', \"  It's max speed is like about 3-4Mbps\"] [datetime.datetime(2020, 11, 29, 0, 0), datetime.datetime(2020, 11, 29, 0, 0), datetime.datetime(2020, 11, 29, 0, 0), datetime.datetime(2020, 11, 29, 0, 0), datetime.datetime(2020, 11, 29, 0, 0), datetime.datetime(2020, 11, 28, 0, 0), datetime.datetime(2020, 11, 28, 0, 0), datetime.datetime(2020, 11, 28, 0, 0), datetime.datetime(2020, 11, 28, 0, 0), datetime.datetime(2020, 11, 28, 0, 0)] 4\n",
            "4\n",
            "['Depend on JIO network', 'Best one', 'Broken after fourteen dayss', 'Nyc 👍 product', 'Speed is no', 'Nice', 'Nothing to tell', 'Satisfied', 'Cable less internet connection', '.'] ['  This dongle works fine with very good connectivity if JIO network is strong in your area. Sometimes it gives very low stregth and some time it works with very good strengthHowever we are happy with performanceHowever price is high compare to features offered.', '  Very nice product where you can share WiFi to 5 devices', '  I hate this got broken after 14 days and no way I can return it, please give me refund ,this is unfair', '  Good', '  No net', '  Nice product', '  Gud', \"  It's really good worth of money if you are struggling for wifi connection definitely go for it! 👍\", '  Rather than doing a net work cableing at home, JioFi serves the purpose of our requirements. Satisfactor product.', '  Good product.'] [datetime.datetime(2020, 11, 28, 0, 0), datetime.datetime(2020, 11, 28, 0, 0), datetime.datetime(2020, 11, 27, 0, 0), datetime.datetime(2020, 11, 27, 0, 0), datetime.datetime(2020, 11, 27, 0, 0), datetime.datetime(2020, 11, 27, 0, 0), datetime.datetime(2020, 11, 27, 0, 0), datetime.datetime(2020, 11, 27, 0, 0), datetime.datetime(2020, 11, 27, 0, 0), datetime.datetime(2020, 11, 27, 0, 0)] 5\n",
            "5\n",
            "['Dongle without battery', 'Good product', 'Jiofi', 'Not reaching given speed...So u can find any other good product at this pricect at', 'Detective product', 'Worst dongle ever.. stopped working after 15days of usage', 'Awesome product..', 'The most portable, easiest and powerful router', 'Jio rules', 'Perfect'] ['  Overall performance is good. No battery required. It’s working with Usb adopters. Electricity not necessary. We can use with Power Banks Usb. First time using this type Jio dongle.', '  Like the product', '  Easy to install', '  When compared to jio fi FI JMR series, nothing is better in this. Same speed for both. We cant get 150mbps. Only thing is advantage of connecting dongle very easily for any device.Major Disadvantage is we cant connect it without power, bcoz its battery less.Soo jio FI JMR  is much better than this produt', '  Not working after 10 days', \"  After use of 15 days the signal goes to red colour ..it is even not working now, tooo bad.i even don't want to rate this dongle now.. worst dongle..\", '  Excellent dongle ... Easy to install and share internet... Awesome speed..... Very useful for work from home.', '  Amazing product. This router can be plugged in to your laptop, so when there is a power cut it will still be working seamlessly using laptop power.', \"  Works for me I liked it 6 months pack was given and it fluctuates but not too much plus it's affordable unlike Overhyped and pathetic other indian companies special airtek who exploit customers with expensive plans and bad customer support.\", '  Perfect product'] [datetime.datetime(2020, 11, 26, 0, 0), datetime.datetime(2020, 11, 26, 0, 0), datetime.datetime(2020, 11, 26, 0, 0), datetime.datetime(2020, 11, 26, 0, 0), datetime.datetime(2020, 11, 26, 0, 0), datetime.datetime(2020, 11, 25, 0, 0), datetime.datetime(2020, 11, 25, 0, 0), datetime.datetime(2020, 11, 25, 0, 0), datetime.datetime(2020, 11, 24, 0, 0), datetime.datetime(2020, 11, 24, 0, 0)] 6\n",
            "6\n",
            "['Good product', 'Faulty cheap  product', 'Waste of money', 'Buy it', 'Jio is always awesome ... East or west, Jio is the best', 'Good one.it is very useful with low cost and high benifit', 'Waste', 'No speed', 'Works Perfect good signal in remote area too. Value for money. Serves the purpose.', 'Good product...go for it...'] ['  Still now ,its good', '  Got a faculty product.Cheap quality.', \"  Mobile hotspot is much better than this jio dongle. Don't go for this.\", '  Awesome product by jio', \"  Just writing this review after 1 day of usage ... In Kolkata (Rajarhat, New Town area) the average upload was almost 40-50 Mbps and download was 10-15 Mbps the whole day ❤️ what more required in life right now I'm yet to think about and find out ... However, one major issue solved in life i.e. cheap and fast Internet 👍👍👍Wi-Fi Signal - ExcellentEasiness to install - Just plug and play, modem management is really easy\", \"  It's nice one.it is affordable for the cost\", \"  Don't buy in amazon,try to purchase offline they are sending old products and the spped is not good.\", '  I am happy with this', '  I brought this JIO DONGLE for one of my friend who lives in remote area without broadband facilities this JIO DONGLE works perfect for desktop pc its signals are good it works almost as broadband wire connection.', '  Good product...Go for It...'] [datetime.datetime(2020, 11, 24, 0, 0), datetime.datetime(2020, 11, 24, 0, 0), datetime.datetime(2020, 11, 24, 0, 0), datetime.datetime(2020, 11, 24, 0, 0), datetime.datetime(2020, 11, 23, 0, 0), datetime.datetime(2020, 11, 23, 0, 0), datetime.datetime(2020, 11, 23, 0, 0), datetime.datetime(2020, 11, 23, 0, 0), datetime.datetime(2020, 11, 23, 0, 0), datetime.datetime(2020, 11, 23, 0, 0)] 7\n",
            "7\n",
            "['Partially fulfilled the objectives.', 'Dont buy', 'Super product', 'Useless by all means - very poor speed', 'Signal', 'Good Signal', 'Good item', 'Speed is not enough', 'Worst Product', \"Jio dongle connection is 31 device's\"] [\"  It's working but not what I expected.\", '  Its old version', '  Please buy', '  Using normal smartphone on hotspot is much better than this devise. I have tried both, speed is too low while using this whereas hotspot through normal smartphone is much much better.', '  Good', '  Very good and getting proper connection and also got 5 months data on 199 + 99 recharge for new jio sim. Also important that we should not insert this sim in mobile to get the data offer for 5 months.', '  Super super super', '  Not upto the mark', '  Worst Product.', '  Your browser does not support HTML5 video.\\n\\n\\n  \\xa0Nice wifi signal is very nice'] [datetime.datetime(2020, 11, 23, 0, 0), datetime.datetime(2020, 11, 23, 0, 0), datetime.datetime(2020, 11, 23, 0, 0), datetime.datetime(2020, 11, 23, 0, 0), datetime.datetime(2020, 11, 22, 0, 0), datetime.datetime(2020, 11, 22, 0, 0), datetime.datetime(2020, 11, 22, 0, 0), datetime.datetime(2020, 11, 22, 0, 0), datetime.datetime(2020, 11, 22, 0, 0), datetime.datetime(2020, 11, 22, 0, 0)] 8\n",
            "8\n",
            "['Good', 'Not good', 'Best for everyone', \"Best for places where you don't get signal on mobile\", 'Modified dongle', 'Good product must buy', 'Defective not working at all', 'Good..', 'Good', 'Amazing product'] ['  It is good product', '  This product is easy to install but WiFi signal is very poor.', '  Buy it for backup', \"  Before buying it, I had seen many mixed reviews on Amazon. This is the best product if you are in a area where the Internet speed is bad. With this device the speed is definitely better, of course you can't expect 150 Mbps. I bought this device to work from home, with mobile hotspot my internet speed was fluctuating, with this device internet speed has improved a lot.\", '  Product is very good and powerful compare to other devices', '  Very good product works fine but the only problem is gets heated up and best of all streams well with fire stick lite.', '  It is defective piece it worked only one week as we were not opening office due to covid. Once we went to office we came to know that it is not working at all', '  Thanks to Amazon..', '  Works better than mobile data.i got 72mbps', '  Really amazing product. It is handy. You can take it anywhere.'] [datetime.datetime(2020, 11, 22, 0, 0), datetime.datetime(2020, 11, 22, 0, 0), datetime.datetime(2020, 11, 21, 0, 0), datetime.datetime(2020, 11, 21, 0, 0), datetime.datetime(2020, 11, 21, 0, 0), datetime.datetime(2020, 11, 21, 0, 0), datetime.datetime(2020, 11, 21, 0, 0), datetime.datetime(2020, 11, 21, 0, 0), datetime.datetime(2020, 11, 20, 0, 0), datetime.datetime(2020, 11, 20, 0, 0)] 9\n",
            "9\n",
            "['Speed', 'No speed', 'Low cost- decent speed 200kb/s', 'Network not working', 'Old one and not worth', 'Do buy this is just pathetic', 'Worst network speed on this Jio device', 'Must buy', 'Wow', 'Stopped working in 14 days'] ['  Very easy to install', '  Bakwaas jaha phone me speed aa jata hai waha bhi ni chalta bekar laga😤😤😤😤😤😤', '  Internet speed  very slow --Jio Wi-Fi. But solidly playing videos.', '  Do not buy this product', '  No WiFi signal, pathetic dongle.. not worth buying', '  Pathetic network. It does send signal beyod 0.5 mbps', '  I ordered this product to work from home when I am travelling. I tried it in multiple locations and I was getting 2mbps speed :(while in all these locations my phone hotspot was able to give 15-20 mbps speedswhen I contacted Jio service they said its device issueit ruined my travel plans and impacted badly to my work efficiency. Jio device is pathetic Chinese makes and completely unreliable.  wasted my 2000 Rs on this device and another 500 Rs on SIM and recharge. what a waste of money', '  Packaging is very well. Easy to installWifi signal is very strong', '  👍', '  Stopped working in 14 days'] [datetime.datetime(2020, 11, 20, 0, 0), datetime.datetime(2020, 11, 20, 0, 0), datetime.datetime(2020, 11, 20, 0, 0), datetime.datetime(2020, 11, 20, 0, 0), datetime.datetime(2020, 11, 20, 0, 0), datetime.datetime(2020, 11, 19, 0, 0), datetime.datetime(2020, 11, 19, 0, 0), datetime.datetime(2020, 11, 19, 0, 0), datetime.datetime(2020, 11, 19, 0, 0), datetime.datetime(2020, 11, 19, 0, 0)] 10\n",
            "10\n",
            "['Strong signal', \"Worst experience and don't buy it\", 'Incomplete information', 'Bestttt p', 'Not meeting expectation', 'Good', 'Good', 'Worst speed', 'Super Fast', 'VERY LOW SPEEED AND WIFI RANGE IS BAD'] ['  Until the power is there it will work perfectly with strong signal. Using for more than month. Still there is no functional or manufacturing defect. Nice product.', '  Dislike', '  Incomplete information was provided. I tried my ongoing jio sim in jiofi. After an hour i went to jio store to avail the offer. I was denied because i had already inserted my current sim. I doubt the intention of jio.', '  Best!!!', '  The speed is relatively less when compared with the mobile hot spot', '  Good product', '  Good', '  No good signal received in my area and worst speed', '  Great signal', '  The product is not upto the expectations and the range is not good enough. The product does not have any battery backup so it is not useful for place with frequent power cut.'] [datetime.datetime(2020, 11, 19, 0, 0), datetime.datetime(2020, 11, 18, 0, 0), datetime.datetime(2020, 11, 18, 0, 0), datetime.datetime(2020, 11, 18, 0, 0), datetime.datetime(2020, 11, 18, 0, 0), datetime.datetime(2020, 11, 18, 0, 0), datetime.datetime(2020, 11, 18, 0, 0), datetime.datetime(2020, 11, 18, 0, 0), datetime.datetime(2020, 11, 18, 0, 0), datetime.datetime(2020, 11, 18, 0, 0)] 11\n",
            "11\n",
            "['JioFi Dongle', \"life can't get easier than this\", 'Good', 'My experience was good', 'Ok', 'good', 'Very poor performance', 'Original product', 'Hh', 'Just marketing'] ['  Nice Dongle ! Comes with USB charger. Needed to buy a Jio SIM. Installation is easy. Plug in and Ready to Go. Speed depends on the jio network at your Place. You can plug into Laptop USB port directly.', '  just got started in 30 seconds without any hassels', '  High speed', '  Good wifi signal and very easy to install', '  Nice', '  good', \"  Very poor performance, instead of buying a router v can use a smart phone, internet speet in router is only 1/3 comparing to net in smartphone. What's the use of buying this?\", '  Excellent original product', '  Not giving 102 mbps speedOnly 8to 9 mb if you have good network', '  Speed is worst'] [datetime.datetime(2020, 11, 18, 0, 0), datetime.datetime(2020, 11, 18, 0, 0), datetime.datetime(2020, 11, 18, 0, 0), datetime.datetime(2020, 11, 18, 0, 0), datetime.datetime(2020, 11, 18, 0, 0), datetime.datetime(2020, 11, 18, 0, 0), datetime.datetime(2020, 11, 18, 0, 0), datetime.datetime(2020, 11, 18, 0, 0), datetime.datetime(2020, 11, 18, 0, 0), datetime.datetime(2020, 11, 18, 0, 0)] 12\n",
            "12\n",
            "['Good', 'Speed', 'better price to enjoy broad band expereince', 'This dongle is a piece of crap', 'Bad product', 'Not effective', 'No speed', \"It's good but more data required so it is not worthy for me\", 'Great product', 'Good product'] ['  Good Product', '  The worst product for work', '  performance of the dongle is overall good in every aspect. connectivity looks good and check whether in yor area whether jio is feasible or not esasy installation process', \"  This dongle seriously does not work at all, has terrible speed. Do not buy, it's a waste of money\", '  Net speed always slow, not worthy for real use', '  The speed of wifi is less than my previous router provided by jio. Due to mother board problem in old router I have changed it. If possible company should replace the mother board at reasonable rate', '  No speed, same as mobile net. Mentioned as 150Mbps download n 50mbps upload. But it gave 9Mbps download speed n 3mbps upload speed.Waste of money. Instead use mobile net', '  Signal is not everywhere and facing power issue', '  Really great product', '  Good'] [datetime.datetime(2020, 11, 17, 0, 0), datetime.datetime(2020, 11, 17, 0, 0), datetime.datetime(2020, 11, 17, 0, 0), datetime.datetime(2020, 11, 17, 0, 0), datetime.datetime(2020, 11, 17, 0, 0), datetime.datetime(2020, 11, 17, 0, 0), datetime.datetime(2020, 11, 17, 0, 0), datetime.datetime(2020, 11, 17, 0, 0), datetime.datetime(2020, 11, 17, 0, 0), datetime.datetime(2020, 11, 17, 0, 0)] 13\n",
            "13\n",
            "['Every time no internet access', 'Worthy', 'I Hate It', 'Good for wrok from home if you get network at your place', 'Service Centre Details', 'Best performance', 'Low speed', 'Good product..', 'Dongle is poor', 'Very Disappointed'] ['  Everytime no internet access', '  Everything', '  Very Very Poor Speed', '  I use it for work from home purpuse. I am fully satisfied with network, speed jio calling.', '  For some reason the product just stops  working and there is no guidance on where to send it dor warranty repairs or replacement.', \"  I love this jiofi jrd 740dongle very fast uploading and downloading no 1 router let's purchase\", '  speed is very low', '  An awsome product for tiny scale network.This could be even better, if the dongle support sim from multiple providers.Administration & ease to manage users within network is awsome.', \"  It's a very usless and cheep dongle\", '  Not happy with the productInternet very slow'] [datetime.datetime(2020, 11, 17, 0, 0), datetime.datetime(2020, 11, 16, 0, 0), datetime.datetime(2020, 11, 16, 0, 0), datetime.datetime(2020, 11, 16, 0, 0), datetime.datetime(2020, 11, 16, 0, 0), datetime.datetime(2020, 11, 16, 0, 0), datetime.datetime(2020, 11, 16, 0, 0), datetime.datetime(2020, 11, 16, 0, 0), datetime.datetime(2020, 11, 16, 0, 0), datetime.datetime(2020, 11, 16, 0, 0)] 14\n",
            "14\n",
            "['Defected', 'Very good product', 'Worst signal', 'No SIM offers. You have to buy monthly plan of your choice', 'Use products', 'Gives low speed. The claim of 150 Mbps is not there', 'Good for secondary wfh connection', 'Bad products', 'It works fine.', 'Network us not working'] ['  Your browser does not support HTML5 video.\\n\\n\\n  \\xa0Not working... Got defected product..going to return this product... Very disappointed by seller or amazon', '  I liked the signal strengthBut is better to include battery for that price', '  Bad', '  New SIM offer described on this product is not available', '  Use products given to me.... There is two bill inside.....Of same modem.....', \"  Worst product. Please don't buy it. It gives very low speed when connected. The claim of 150 Mbps doesn't works\", '  Good for wfh setup but JIO signal is not good. I am not sure that I can use other providers sim into it.But worth buying.', '  Bad products', \"  It works fine, just don't expect a good range.\", '  Worst product not working, in 1month network problem came'] [datetime.datetime(2020, 11, 15, 0, 0), datetime.datetime(2020, 11, 15, 0, 0), datetime.datetime(2020, 11, 15, 0, 0), datetime.datetime(2020, 11, 15, 0, 0), datetime.datetime(2020, 11, 15, 0, 0), datetime.datetime(2020, 11, 15, 0, 0), datetime.datetime(2020, 11, 15, 0, 0), datetime.datetime(2020, 11, 15, 0, 0), datetime.datetime(2020, 11, 14, 0, 0), datetime.datetime(2020, 11, 14, 0, 0)] 15\n",
            "15\n",
            "['Worst device', 'Better', 'so so product', 'It works as it should be.', 'Not up to the mark', 'Good bandwith, quality product worth buying', 'Very nice', 'Nice', 'No', 'Worst speed ever'] [\"  Guys never ever buy this jio modem, compare to this device, USB tethering is very very very very good, it cannot pull high speed internet, i seen all the reviews i purchased, its my bad Don't take this bro u will definitely cry for this device speed. Please please understand y I'm saying this much, after that ur wish.\", '  It has easy Connectivity Option With Laptop and & PC just the issue with Jio Network ...At the start of #Jio_provided_fast_network but now#really_poor _connection', '  there should be chargeable system and a body switch should be there.some times the speed', '  Nothing much to say just plug and play.', '  Range problem', '  Awesome product', '  Works really well', '  Like the product', '  No', '  In my residents area there is a mobile tower in within 100 m and getting full coverage but not getting enough speed as per promises only getting 3-4 mb/s'] [datetime.datetime(2020, 11, 14, 0, 0), datetime.datetime(2020, 11, 14, 0, 0), datetime.datetime(2020, 11, 14, 0, 0), datetime.datetime(2020, 11, 14, 0, 0), datetime.datetime(2020, 11, 14, 0, 0), datetime.datetime(2020, 11, 14, 0, 0), datetime.datetime(2020, 11, 14, 0, 0), datetime.datetime(2020, 11, 14, 0, 0), datetime.datetime(2020, 11, 14, 0, 0), datetime.datetime(2020, 11, 14, 0, 0)] 16\n",
            "16\n",
            "['May be a good router for this budget', 'Perfect', 'Made in china', 'Good', 'Disapointment . Nt evn showing light whn plugged in nd geeting over heat in a 5 min of time span', 'Expired product', \"Don't but\", 'Very nice product', 'Good', 'Wah! JIO'] ['  Not very good or not bad .. medium i will give for this product', '  Nice design, good speed and flexible', '  Bad quality .I cannot able to connect this device with usb charger. It have some manufacturing defect! Made in china', '  Like', \"  Literally I didn't expect this will happen ... The dongle is nt at all working nt evn showing the lights whn it plugged in .. I did a replacement fr ths product\", \"  I received this product on 13/11/2020. When i opened the pouch i was shocked because it's manufacturing date is on 07/2017 and Jio will give you only one year of warranty. That means i received this product  with out warranty. How it's possible\", '  The speed is too low', '  FREE FIRE play V.GoodWiFi 20-30 Server 🌍YouTube Live VideoVery nice product', '  Good', '  Very good Product'] [datetime.datetime(2020, 11, 13, 0, 0), datetime.datetime(2020, 11, 13, 0, 0), datetime.datetime(2020, 11, 13, 0, 0), datetime.datetime(2020, 11, 13, 0, 0), datetime.datetime(2020, 11, 13, 0, 0), datetime.datetime(2020, 11, 13, 0, 0), datetime.datetime(2020, 11, 13, 0, 0), datetime.datetime(2020, 11, 13, 0, 0), datetime.datetime(2020, 11, 13, 0, 0), datetime.datetime(2020, 11, 13, 0, 0)] 17\n",
            "17\n",
            "['Worst product ever', 'WiFi calling not support', 'Not worth for office work due to limited upload speed.', 'Fraud Sell', 'In warranty -amazon needs to replace', 'Good', 'Highly recommend', 'Performs well', 'Good Portable Router', 'good'] ['  I would not buy this product or deal with this vendor as the product did not work. Plugged in came in and kept switching off. It didn’t work from scratch', '  I have IPhone X, the dongle is not support WiFi call', '  Bought it for work from home . The average download speed is 8 mbps but the upload speed is 0.3 mbps which makes this device unusable for office work or work from home . It may be useful only for youtube or Facebook or Amazon shoping.', \"  This is a very poor dongle and I am Trapp to bought that. I strongly suggest to everyone don't purchase that.\", '  If device may issues after 2 months so I have to go jio service center or Amazon get replace.pls confirm.', \"  It's really worth\", '  No issues.. everything fine.. device work properly.. especially speed,WiFi range easy to install..and I got Jio 5 months offer too..thumps up😊👍', '  Good', '  Reason for giving overall 4**** review because of the quality of product material (plastic), otherwise it deserve 5**** rating...', '  Very good product easy to use, I am using with power bank with 10000 mah it is working very good'] [datetime.datetime(2020, 11, 12, 0, 0), datetime.datetime(2020, 11, 12, 0, 0), datetime.datetime(2020, 11, 12, 0, 0), datetime.datetime(2020, 11, 12, 0, 0), datetime.datetime(2020, 11, 12, 0, 0), datetime.datetime(2020, 11, 11, 0, 0), datetime.datetime(2020, 11, 11, 0, 0), datetime.datetime(2020, 11, 11, 0, 0), datetime.datetime(2020, 11, 11, 0, 0), datetime.datetime(2020, 11, 11, 0, 0)] 18\n",
            "18\n",
            "['Defective', 'Great go for it', 'Awsume', 'Great product', 'Good Product', 'Dongal is nice but adapter charger not working', 'Easy to install and it is plug and play. No batty charging.', 'Worth buying!!Amazing product with Awesome Delivery', 'Very less data speed', 'Super'] ['  Defective piece. Not working after 15 days of purchase', '  Great speed wifi speed is like 25 mbps and if we put the dongle directly into laptop it speed is like 45 mbps which is great for laptop users', '  Good product', '  Works quite perfectly, must be placed in a place where you have good internet connection. A must need item for every home.', \"  It's a good product of Jio. Easy to use and easy to carry with you wherever you will go outside. But, always you have to carry an OTG for connecting to mobile. Because, dongle has no any power button to switch on or off it. So, you can't use it's WiFi mode.\", '  Dongal is good but charger not working proper', '  I like this product. I used it in my home.', \"  Shipping is amazing. Thanks to Amazon for delivering it in just 4 hrs. Do not go by misleading reviews. In Bangalore,  I got this from Amazon and then went to Jio store and got a sim Y'day.  It's activated with 120 days free offer as well. speed depends on Jio signal in your area. For me I have some signal problem,  so itsok and  I see its around 10mbps. I am happy with my purchase.\", '  Very bad experience, data speed less than phone also,  almost 1-10 kb/s', '  Very good'] [datetime.datetime(2020, 11, 11, 0, 0), datetime.datetime(2020, 11, 11, 0, 0), datetime.datetime(2020, 11, 11, 0, 0), datetime.datetime(2020, 11, 11, 0, 0), datetime.datetime(2020, 11, 11, 0, 0), datetime.datetime(2020, 11, 11, 0, 0), datetime.datetime(2020, 11, 11, 0, 0), datetime.datetime(2020, 11, 10, 0, 0), datetime.datetime(2020, 11, 10, 0, 0), datetime.datetime(2020, 11, 10, 0, 0)] 19\n",
            "19\n",
            "['Work.', 'I like it', 'Ok Replacement', 'This product is functioning well', 'Good dongle', 'Not a good buy', 'Good product', 'Nice', 'Good one', 'Only works where u have signal'] ['  New', '  Very good', \"  Replacement product working good!!. Really a value for money dongle. In my area jio network weak so I placed dongle near window. Now signal Fair (blue led) after 12 pm it's shows excellent (green led)\", '  Thank you for dongle replacement. This product is working well. Signal strength is also good', '  Good product', '  Not a good buy. It always need power connected either ways by adapter or laptop.  You cannot keep dongle where exactly u get good network coverage.', '  Good product', '  Bad', '  It is good one if u have good jio signals near your area. But after using 1hr it is getting heated and compare to mobile net speed it is little bit low upto 1 mbps', '  Everything is not good'] [datetime.datetime(2020, 11, 10, 0, 0), datetime.datetime(2020, 11, 10, 0, 0), datetime.datetime(2020, 11, 9, 0, 0), datetime.datetime(2020, 11, 9, 0, 0), datetime.datetime(2020, 11, 9, 0, 0), datetime.datetime(2020, 11, 9, 0, 0), datetime.datetime(2020, 11, 9, 0, 0), datetime.datetime(2020, 11, 9, 0, 0), datetime.datetime(2020, 11, 9, 0, 0), datetime.datetime(2020, 11, 9, 0, 0)] 20\n",
            "20\n",
            "['Awesome', 'Worst worst worst', 'Overall good product to buy', 'Very nice', 'Never Buy', 'Poor product and poor seller', 'Bad', 'That folding system is not good It should be like Enter type dongle.', 'Disappointed', '150mbps without sim card suport'] ['  What a great surprise, when I get the service of Amazon! I am fully satisfied with this Wi-Fi device and also recommending to those who want to purchase it for their children to fulfill online classes.Thanks \"Amazon\" and also his \"associated team\".', \"  Worst product do not buy this product.After two weeks it won't work.Iam not at all interested in giving even single star but there is no option for me not to give star.\", '  Worth to buy for normal usage such as browsing, vedio calls, downloading speed depends upon the network.', '  Very nice 👌', '  Wifi signal bad. Body is very brittle and has already broken in places. Bad experience.', '  Poor product and poor seller', \"  I don't why but it's speed is very low . It is too slow for laptop . Given the price not acceptable.\", '  It worked for a month ok. Now it does not.Plug In Plug out is so cumbersome.So I am going to return it under warranty & get it replaced from a jio store.', '  Slower than mobile data. Disappointed', \"  There is no sim card offered by reliance jio to support 150mbps, if that's what you bought it for. Its as good as many with no distinct feature\"] [datetime.datetime(2020, 11, 9, 0, 0), datetime.datetime(2020, 11, 9, 0, 0), datetime.datetime(2020, 11, 9, 0, 0), datetime.datetime(2020, 11, 9, 0, 0), datetime.datetime(2020, 11, 8, 0, 0), datetime.datetime(2020, 11, 8, 0, 0), datetime.datetime(2020, 11, 8, 0, 0), datetime.datetime(2020, 11, 8, 0, 0), datetime.datetime(2020, 11, 8, 0, 0), datetime.datetime(2020, 11, 8, 0, 0)] 21\n",
            "21\n",
            "['Wastage of Time & Money buy the product', 'क्या रिप्लेस हो सकता है', 'Buy Dongle but not Jio,perfected one is airtel .....', 'Serving my cause... ✌', 'Wifi', 'Cant use for calling via JioCall app', 'No network', 'exalent product', 'Waste of money', 'Very simple'] ['  Without battery  manufacturing the product no need to buy the product  very delicate & *so little no power we cannot use', '  इंटरनेट नही चल रहा है', '  Signal is week ....', '  Your browser does not support HTML5 video.\\n\\n\\n  \\xa0- Received the device in 2 days- Packing was perfect- This can be connected to USB port of power bank and this now can be used as portable router.(see attached pictures)-To be purchased only if you have a good JIO network in the locality.', '  Very us full', '  Gets disconnected from JioCall app, so cant use for calling and SMS. Can use for wifi only. There is not much difference in network reception than mobile phone.', '  No network ..every time its just connect and disconnect ..good for short period of time hardly  1 hour. returned it but didnt received refund', '  exalent product', '  never buy waste of money. Not getting speed. Even in Mobile getting more speed compare to jiofi.', '  Best Product.... value to money'] [datetime.datetime(2020, 11, 8, 0, 0), datetime.datetime(2020, 11, 8, 0, 0), datetime.datetime(2020, 11, 8, 0, 0), datetime.datetime(2020, 11, 8, 0, 0), datetime.datetime(2020, 11, 8, 0, 0), datetime.datetime(2020, 11, 8, 0, 0), datetime.datetime(2020, 11, 7, 0, 0), datetime.datetime(2020, 11, 7, 0, 0), datetime.datetime(2020, 11, 7, 0, 0), datetime.datetime(2020, 11, 7, 0, 0)] 22\n",
            "22\n",
            "['Quick delivery...', 'His signal quality is not good', 'Same speed as jio 4g network.', 'Recommended', 'Awesome speed and got 1 + 5 months free offer with recharge of 199+99(prime)', 'Nice product good condition and very use full product', 'i did not receive cable usb or charger cable to charge', 'Not a good one', 'Poor signal speed', 'Not working properly'] ['  Superb product...Totally satisfied', '  This is too small', '  Same speed as jio 4g network.', '  Seller: Appario Retail Private LTD. I received good quality JioDongle. Rating 5/5', '  Awesome speed upto 25 mbps.i have got 6 monts free offer by visiting jio store and purchasing new sim with recharge of 199+99( prime) recharge. Really awesome.', '  Good product', '  product received but not able to receive the charger cable. kindly send on the mentioned address asap', '  Very bad product. No signal quality the main issue is it is portable and not portableWithout battery its of no use', '  Very poor signal quality. It does not give above 10mbps although advertised as 150mbps. Do not buy', '  Very bad product'] [datetime.datetime(2020, 11, 7, 0, 0), datetime.datetime(2020, 11, 7, 0, 0), datetime.datetime(2020, 11, 7, 0, 0), datetime.datetime(2020, 11, 6, 0, 0), datetime.datetime(2020, 11, 6, 0, 0), datetime.datetime(2020, 11, 6, 0, 0), datetime.datetime(2020, 11, 6, 0, 0), datetime.datetime(2020, 11, 6, 0, 0), datetime.datetime(2020, 11, 6, 0, 0), datetime.datetime(2020, 11, 6, 0, 0)] 23\n",
            "23\n",
            "['Nice product', 'Best wingle for Jio SIM.', 'Not good product', 'Awesome', '5 month offer', 'Bad network of jio 😤', 'not working properly', 'Useful for WFH', 'Useful product.', \"such a horrible device, doesn't even seem original.\"] ['  Very good functioning working good for laptop', '  This is the best WiFi device for Jio. Also can be used to receive calls on that sim, unlike other hockey puck Jio devices.', '  Very bad product', \"  Hi, I bought this dongle for my work from home. This is the worst dongle i have ever seen. Today only i got the product. I never get a speed of 1MBps atleast, from mobile I'm getting speed of 20MBps. I didn't expect this from the dongle with 150MBps. Upset with the product. It dont have the return policy also. Utterly disappointed. Waste of money.Update on 09Nov:It is working perfectly. Find out Google services is consuming my data. After changing the settings it worked perfectly. Nothing wrong in jio dongle.\", '  What is JioFi Rs. 1999 Offer?Purchase a JioFi device for Rs. 1999 and subscribe for prepaid services offered by RJIO and get complimentary benefits of upto 5 months.Post Purchase of the JioFi device along with a Jio SIM, the customer can choose any one of the three JioFi plans (chargeable), as part of offer, to get Jio UNLIMITED ONNET VOICE+DATA for up to 5 months.At the time of SIM activation, choose one of the following option:Option 1: Activate the SIM with FRC of Rs. 199 (1.5GB data/day worth for 28 days) + Rs. 99 for Jio Prime membership AND get 1.5 GB data/day, unlimited Jio to Jio mobile calls and Jio to landline calls, 1000 offnet mobile minutes per 28 days (thereafter at 6 p/min) and 100 National SMS/ day for 140 days.Option 2: Activate the SIM with FRC of Rs. 249 (2GB data/day worth for 28 days) + Rs. 99 for Jio Prime membership AND get 2 GB data/day, unlimited Jio to Jio mobile calls and Jio to landline calls, 1000 offnet minutes per 28 days (thereafter at 6 p/min) and 100 National SMS/ day for 112 days.Option 3: Activate the SIM with FRC of Rs. 349 (3GB data/day worth for 28 days) + Rs. 99 for Jio Prime membership AND get 3 GB data/day, unlimited Jio to Jio mobile calls and Jio to landline calls, 1000 offnet minutes per 28 days (thereafter at 6 p/min) and 100 National SMS/ day for 84 days.', '  Bad WiFi signal', '  Very bad device', '  no heating issues. Can use it for long time.', '  Its only drawback is it has no battery.', '  No signal'] [datetime.datetime(2020, 11, 5, 0, 0), datetime.datetime(2020, 11, 5, 0, 0), datetime.datetime(2020, 11, 5, 0, 0), datetime.datetime(2020, 11, 5, 0, 0), datetime.datetime(2020, 11, 5, 0, 0), datetime.datetime(2020, 11, 5, 0, 0), datetime.datetime(2020, 11, 4, 0, 0), datetime.datetime(2020, 11, 4, 0, 0), datetime.datetime(2020, 11, 4, 0, 0), datetime.datetime(2020, 11, 4, 0, 0)] 24\n",
            "24\n",
            "['Poor Connectivity with Dongle', 'Waste of time and money.', 'Manufactured 2017.', \"Don't purchase\", 'Easy to connect and use', 'Good', 'Nice', 'Useless waste of money', 'Superb', '5 month free data offer activation nice jiofi'] ['  Connectivity very poor. Frequent disconnection.', '  1st time the product was received ,that time ut was not working. It was not  showing  signal.2nd time after replacement , sim crad slot tray is broken .Finally put a request for refund.Myself had purchased  plenty things from Amazon but never ever happened before.  Why like this this time ?Secondly , why products are not checked before it is despatched ????????I am really unhappy on above issue.I personally feel Amazon should take strong action against this type of vendors who send this type of faulty product .', '  Manufactured in 2017 but product released in 2020. Dont know its a original product or not. But iam keeping it, as my previous dongle is not working. No net issues, but sometimes its slow. Range is good.', '  Not serving any purpose for which it is purchased', '  Like : Easy to connect and useDislike: Only jio sim required, No change in Speed', '  Easy to install a', '  Good product', \"  I didn't find any difference between mobile hotspot and with this\", '  Just awesome👍', '  5 month data activation is easy.first take new sim.first time dont insert sim in another device for ,directly insert in new jiofi.and tele-verify ,it after 10 min 5 month offer is activated.see activated offer in my jio app or website see your all plan in my plans option.speed is also great.'] [datetime.datetime(2020, 11, 4, 0, 0), datetime.datetime(2020, 11, 4, 0, 0), datetime.datetime(2020, 11, 4, 0, 0), datetime.datetime(2020, 11, 4, 0, 0), datetime.datetime(2020, 11, 4, 0, 0), datetime.datetime(2020, 11, 4, 0, 0), datetime.datetime(2020, 11, 4, 0, 0), datetime.datetime(2020, 11, 4, 0, 0), datetime.datetime(2020, 11, 3, 0, 0), datetime.datetime(2020, 11, 3, 0, 0)] 25\n",
            "25\n",
            "['New Jio sim offer not available for this device.', 'Only and only jio sim will be used.', 'Very bad quality', 'Stopped within 1 month, customer care rejected.', 'Value for money', 'Not a very great product', 'Good product', 'अच्छा है ।', 'WiFi Signal is too poor', 'Very bad products'] ['  New Jio sim offer not available for this device. I ordered for return but it is not pick up.', '  Nicely worked.', '  It does not works in my laptop and if connect more than one device network becomes to slow very hard for work from home and online classes.', \"  Within 1 month stopped.Now service center says, this is a new product and we can't repair, they are not receiving it...😤☹️😭😭😭😭Money wasted.\", \"  It's basically plug and play.. anyone can install it... doesn't overheat even for continuous usage of more than 24 hrs..range of signal is ok.. but the spread is little low compared to usage of the Same SIM on a mobile.\", \"  I have purchased JioFi Dongle online because I was not getting JioFI M2 router in store. I have checked the Sim putting in mobile which is giving great speed but same sim when putting in JioFI Dongle giving a speed of maximum 2 Mbps. OverAll It is really not a worthy product. I won't recommend it.\", '  Good', '  अच्छा है।', '  WiFi signal is too poor', '  Very bad'] [datetime.datetime(2020, 11, 3, 0, 0), datetime.datetime(2020, 11, 3, 0, 0), datetime.datetime(2020, 11, 3, 0, 0), datetime.datetime(2020, 11, 3, 0, 0), datetime.datetime(2020, 11, 3, 0, 0), datetime.datetime(2020, 11, 2, 0, 0), datetime.datetime(2020, 11, 2, 0, 0), datetime.datetime(2020, 11, 2, 0, 0), datetime.datetime(2020, 11, 2, 0, 0), datetime.datetime(2020, 11, 2, 0, 0)] 26\n",
            "26\n",
            "['Useful', '10 device  connect speed', 'Easy to set up, though speed is typically less than 5 Mbps (although tested in a remote location)', 'Spend 2000 rs. Is not worth on this old menufectured device', 'Go for it', 'Second handle product received', 'No battery.', 'Go for it....', 'Worst', 'worst product ever'] ['  Do not use the SIM in any other device once you install in This.There are special plans for this.Better go to jio store and take a new SIM with new plan .Never ever use the SIM in mobile.I like it.No problems with signal_ WiFi.', '  This good product', '  I found the dongle quite easy to set up and very portable. No heating issues whatsoever. However, I was somewhat surprised by the difference between the advertised speed of 150 Mbps and the actual speed measured using popular online tests (such as speedtest.net and Google search engine\\'s speed test), which was typically 0.75 - 1.5 Mbps, sometimes reaching 4.5 Mbps (download speed). However, this may be an artefact of the location where I tested it, which was in a relatively remote Himalayan village, where overall signal strength itself might be poor and not the dongle\\'s \"fault\". It\\'d be interesting to check actual speed in a major city such as, say, Delhi or Mumbai.', '  Wifi signal is good but speed of internet is very slow as compared to mobile latest hotspot. As this dongle is manufactured in 2017, so hardware is almost more then 3 years old.. Not recommended... Inststead od this purchase latest mobile and use hot spot', '  Nice one,  life saver', '  I got a second handle product and returning the same .', \"  I can't believe they don't give a battery with it.bought it even without checking.couldnt find the previous model jiffy dongle which comes with battery.\", '  Product is good but i have problem with jio networkI think airtel provides better network.No complain with this device', '  Speed is worst.', '  no internet speed'] [datetime.datetime(2020, 11, 2, 0, 0), datetime.datetime(2020, 11, 2, 0, 0), datetime.datetime(2020, 11, 2, 0, 0), datetime.datetime(2020, 11, 2, 0, 0), datetime.datetime(2020, 11, 2, 0, 0), datetime.datetime(2020, 11, 2, 0, 0), datetime.datetime(2020, 11, 2, 0, 0), datetime.datetime(2020, 11, 1, 0, 0), datetime.datetime(2020, 11, 1, 0, 0), datetime.datetime(2020, 11, 1, 0, 0)] 27\n",
            "27\n",
            "['Easy to carry.. Light weight', 'A very handy product', 'Very good product', 'Amazing product', \"We don't have battery\", 'No battery Beware', 'Jiofi', \"Worst product don't buy\", 'It get heated heavily. Connection speed  is poor', 'Opt for the one with battery'] ['  Overall product is good.. Device heating up a bit but as per product the price should me lower then the current.. Overall experience is good.. Work from home peope jst go for it', '  Portable product, works with power bank, move it anywhere in the room, whenever you have range.', '  Really very good product. Very good wifi connectivity. I got average speed 10 MBPS in medium range. It can plug in laptop USB port.', '  Easy to install , faster than any 4g mobile', \"  We don't have battery\", '  No battery either u have to plugin to lap or adaptor', '  Issue is only with the jio networkDevice is functional as per necessity', '  After one month stopped working', '  Connection speed is poor.Get heated heavily', '  The wifi range is bad , unless you are say 10 -15 foot from the device.'] [datetime.datetime(2020, 11, 1, 0, 0), datetime.datetime(2020, 11, 1, 0, 0), datetime.datetime(2020, 11, 1, 0, 0), datetime.datetime(2020, 11, 1, 0, 0), datetime.datetime(2020, 10, 31, 0, 0), datetime.datetime(2020, 10, 31, 0, 0), datetime.datetime(2020, 10, 31, 0, 0), datetime.datetime(2020, 10, 31, 0, 0), datetime.datetime(2020, 10, 31, 0, 0), datetime.datetime(2020, 10, 31, 0, 0)] 28\n",
            "28\n",
            "['High prise', 'Average Product', 'Waste of Money and worst experiece', 'Gift not delivered with that product', 'Hi', 'Internet connectivity is slow, I am getting speed in kbps.', 'not a God product.', 'Not good', 'Very bad product', 'plz improve'] ['  Very high rate', '  Its speed is very less not worth if purchasing for speed - even mobile hotspot can work at that speed', \"  I had a worst experience with this Jio Dongle.1) Manufacturing Date is very Old 06/2017( more than 3 Years Old product / old technology)2) The data connectivity in Mobile 4G is better than this DongleLets Say 1 Mbps in Mobile but Dongle Gives only 100 Kbps, 1 in 10th of speed ratio between mobile and DongleFunny thing is that they say 150 Mbps but you don't even get 1 Mbps3) Most of the time it takes huge time to get the internet after you power on, its very very slow.Though the signal strength shows full, the speed you get is 100 KBPS :-(4) there is no battery but it heats up a lot, another drawback5) More than all you can't return the item, only it can be replaced.6) Be careful Don't order this item waste of money, this product is not even worth for 200 Rs\", \"  I didn't get gift to be given with this jiofiJDR740 DONGLE. Resolve the issue as soon as possible .Take it on priority basis.\", '  Very useful product', \"  Network connectivity is very low, Customer care support is very poor. Please don't buy, it's waste of money.\", '  I dislike this device  because  it is not working from first . no green signal shows.If somehow  it shows at once in appear. No one have proper answer  from customer side. They usually  cheat. There is no return policy so I have requested  for exchange. so I advice not to buy  such a product.', '  At a time device has increased start then internet are working device not work properly', '  Very bad product.', '  Product is good for speed but setting are bugs lags'] [datetime.datetime(2020, 10, 31, 0, 0), datetime.datetime(2020, 10, 31, 0, 0), datetime.datetime(2020, 10, 31, 0, 0), datetime.datetime(2020, 10, 30, 0, 0), datetime.datetime(2020, 10, 30, 0, 0), datetime.datetime(2020, 10, 30, 0, 0), datetime.datetime(2020, 10, 30, 0, 0), datetime.datetime(2020, 10, 30, 0, 0), datetime.datetime(2020, 10, 30, 0, 0), datetime.datetime(2020, 10, 30, 0, 0)] 29\n",
            "29\n",
            "['Jio Dongle lifesaver', 'Easy to setup and use', 'Waste', 'Perfect for work from home', 'Not worth to buy it', 'Jio bokka', 'Easy to carry and best networks provide', 'worst product', 'Good', 'Very much disappointed'] ['  Very happy with the Jio dongle.', '  Well built, easy to setup and use. Decent wifi coverage. Internet connectivity seems a bit better than using mobile data. No battery backup option in this model.', \"  It's waste not getting signal so I do not need this kkSo please retunit jio dongal and return money\", \"  Perfect choice for one's at work from home given that jio has good range at your place and a recharge for a minimal jio data package.Worked continuously for almost 15 hours and no issues were observed.\", '  Very bad network.', '  Jio network totally waste', '  This product are too good and pocket size', '  this dongle does even catch wifisignals of home and be a portable device.. maximum signal strength it shows is of 500kbps which is not sufficient for any work from home projects on laptops. Even if i put a sim card of jio by recharging it with mobile data...still it shows the signal strength of 50kbpd or even 30kbps.. i wasted money and i totally regret buying this product.', \"  It's good\", \"  * First of all it is my mistake, not to see that, this device need a running power, but do not work with battery. I really didn't like this logic. I was using a JIO JMR540 device for the last 2 years, and I can use it, when no power, also I can use it, when I go out. After getting ourselves comfortable with that kind of product, this is hard to believe that this will not work without running power.* I really didn't find this product anything better than JMR540, which runs with battery, but this do not run with battery.* When I plugged it to electricity board, the indicators turn towards the wall or electricity board, so they are not visible to you. This is a design flaw.* The joint at the L turn of the product (where you can open the USB and to connect to adapter) doesn't seems strong.* After understanding all these points, the last thing I understood is, this product cannot be cancelled. Actually after putting the order, after few hours (less than a day), the delivery status changed to shipped, and I cannot cancel the product, once after it is moved to shipped.* Overall I felt very much disappointed. I refer not to buy this without understanding all these consequences. I refer JIO JMR540 better than this, as it has almost equal capacity (may be a bit better capacity), but it also runs with battery.\"] [datetime.datetime(2020, 10, 30, 0, 0), datetime.datetime(2020, 10, 30, 0, 0), datetime.datetime(2020, 10, 30, 0, 0), datetime.datetime(2020, 10, 30, 0, 0), datetime.datetime(2020, 10, 30, 0, 0), datetime.datetime(2020, 10, 29, 0, 0), datetime.datetime(2020, 10, 29, 0, 0), datetime.datetime(2020, 10, 29, 0, 0), datetime.datetime(2020, 10, 29, 0, 0), datetime.datetime(2020, 10, 29, 0, 0)] 30\n",
            "30\n",
            "['Poor', 'Recieved as shown', 'Nice product', 'Worst', '...', 'Best product for rural areas to get better signal through this device', 'Not good to use', 'Better than jmr815', 'Good', 'JioDongle'] ['  Poor', '  U can go for it', '  Nice product', '  Worst', '  Poor network', '  Really good product main advantage is without battery ,we can plug directly to laptop getting better signal .', '  Very poor', '  Better than jiofi jmr815.  Rate is double but good for wifi and network reception.', '  Nice product in the market.The speed of the wifi is quite good and speed depends on signal strength in your area', '  Excellent product and Very good connectivity'] [datetime.datetime(2020, 10, 29, 0, 0), datetime.datetime(2020, 10, 29, 0, 0), datetime.datetime(2020, 10, 29, 0, 0), datetime.datetime(2020, 10, 29, 0, 0), datetime.datetime(2020, 10, 29, 0, 0), datetime.datetime(2020, 10, 29, 0, 0), datetime.datetime(2020, 10, 28, 0, 0), datetime.datetime(2020, 10, 28, 0, 0), datetime.datetime(2020, 10, 28, 0, 0), datetime.datetime(2020, 10, 28, 0, 0)] 31\n",
            "31\n",
            "['Pathetic speed', 'Without Battery', \"Useless. Pathetic Network. Don't buy\", 'बहुत अच्छा पॉकेट साइज', 'Faulty china product', \"It's not working please help me and I want to return\", 'Yes', \"Don't buy\", 'super', 'in built battery no'] ['  Claiming 150 mbps and reallty is 0.75 maps. See the screen shot for your reference.', '  Easy setup, Plug & play, Convenient plugin to any USB charger, no tension of battery uses , value for money. Must BUY .', \"  I doesn't have its own battery. Hence It has to be either plugged into the socket or a power bank.Network is pathetic. Video calling and Working from home is simply not possible.\", '  बहुत ही आसान इनस्टॉल करने में कॉम्पैक्ट लुक', '  the device only heated up and did not work. I took it right out of the box and it did not work. That says a lot about this china piece of crap', \"  It's not working properly I want to return please help me\", '  Your browser does not support HTML5 video.\\n\\n\\n  \\xa0Amazon after sale service is very good.This product is very helpful.I,am very happy for this seller and this product.Thank you very much....', '  No battery backup and poor WiFi rangeNot working in low network..Working only in full network.', '  best villege network problem solving this router', '  in built battery no'] [datetime.datetime(2020, 10, 28, 0, 0), datetime.datetime(2020, 10, 28, 0, 0), datetime.datetime(2020, 10, 28, 0, 0), datetime.datetime(2020, 10, 28, 0, 0), datetime.datetime(2020, 10, 27, 0, 0), datetime.datetime(2020, 10, 27, 0, 0), datetime.datetime(2020, 10, 27, 0, 0), datetime.datetime(2020, 10, 27, 0, 0), datetime.datetime(2020, 10, 27, 0, 0), datetime.datetime(2020, 10, 27, 0, 0)] 32\n",
            "32\n",
            "['Good', 'Peddling old wine in a new bottle?', 'Useless product. Mobile hotspot is very much better.', 'Bad choice', 'Prime Customers satisfaction is Amazon pride', 'Excellent compatibility with any Communication Gadget', 'Must buy', 'Over all good', 'Good Product', 'If you have new phone, jiofi is of no use.'] ['  Good', \"  It's a 2017 model being sold in 2020! Didn't realize it till today when we went to get a SIM for it. Why would anyone sell a 3 year old model?? Nit that it's cheap! Please take it back and replace with a newer model. Happy to pay the difference. Thanks\", '  Useless product. Mobile hotspot is very much better.Also the old stock of 06/2017 is supplied by the Appario Retails Private limited. Replacement product was also of old stock 06/2017', '  Very bad signal and take to much time to connect WiFi', \"  It's good and ease to install\", '  Everything ok', '  Easy to use,light weight and better connectivity', '  Nice built qualityEasy to installHeigh speed data with jio SIMPlug and play devicein laptop or chargerSpeed and fast delivery by Amazon', \"  It's good feeling to using such beautiful device and most important the signal is quiet good.\", \"  Speed is always less or equal to the phone's internet speed.\"] [datetime.datetime(2020, 10, 27, 0, 0), datetime.datetime(2020, 10, 27, 0, 0), datetime.datetime(2020, 10, 26, 0, 0), datetime.datetime(2020, 10, 26, 0, 0), datetime.datetime(2020, 10, 26, 0, 0), datetime.datetime(2020, 10, 26, 0, 0), datetime.datetime(2020, 10, 26, 0, 0), datetime.datetime(2020, 10, 26, 0, 0), datetime.datetime(2020, 10, 26, 0, 0), datetime.datetime(2020, 10, 26, 0, 0)] 33\n",
            "33\n",
            "['Good look material is of high quality and I feel one should go for the product', 'Easy to use', 'Handle with care , nice product', \"Wifi isn't working\", \"Don't buy. Sad...\", 'WORTHY', 'Product is not good', 'Signal', 'Ok', 'Average product, Work from home needs more speed.'] ['  I think it was a good buy it was easy to install and giving good service. I like the look of the product', '  No external party installation required it can be done by self and easy', \"  At first impression it's feels solid but the back plate is quite flimsy in the very first hour one small plastic teeth or खांचा on the back cover/plate got broken.Got the product manufactured 3yrs ago (2017 Jun)Firstly when I did everything correctly as per manual I can call, recieve/send text, use data at as per max speed in my area but I cannot receive call and it's saying person is out of network coverage area so then I called jio care with same jio fi inserted same via my phone with jiocall app then I explained my query he said within 48hrs network team will call me but don't know what magic happened immediately I started to receive call after that conversation and from the time I installed jiofi I'm Searching here and there on internet for the solution from past 4 hour and I don't know that I'm just a call away lol 😂😂 even I don't know how it happened but everything working fine so I'm happyAlso one important thing WiFi range it's great I bet that you will not regret with its WiFi range and there will be little amount of heat generated but that's normal for any electronic productGot this product at 1948.90rsHope it helps youEdit on 2 Nov 2020 => I noticed that while calling speed reduces drastically but still you can enjoy 480p videos non stop\", '  My wifi is not working only for laptop Access', '  Worst product and high price.Sad very sad...Huge mistake for choosing this product. Very sad very very sad alas....', '  In my home im getting a max speed of 35Mbps during night and min of 8mbps during day. Working great !!!', '  Speed is very low', '  Good', '  Ok', \"  This jio wifi dongle is good for lite browsing, cannot use it for continuous work. It's speed is limited and doesn't load.Tip: you need to connect to it's wifi even after its directly connected as dongle to your system in order to get proper bandwith for your video conferencing meets.\"] [datetime.datetime(2020, 10, 26, 0, 0), datetime.datetime(2020, 10, 26, 0, 0), datetime.datetime(2020, 10, 26, 0, 0), datetime.datetime(2020, 10, 25, 0, 0), datetime.datetime(2020, 10, 25, 0, 0), datetime.datetime(2020, 10, 25, 0, 0), datetime.datetime(2020, 10, 25, 0, 0), datetime.datetime(2020, 10, 25, 0, 0), datetime.datetime(2020, 10, 25, 0, 0), datetime.datetime(2020, 10, 25, 0, 0)] 34\n",
            "34\n",
            "['Superb', 'signal connectivity and speed is decently good enough to work on office laptop.', 'Excellent', 'Good', 'Used product', 'Not working', 'Fake free add by Amazon.', 'it awsome', 'Product does not work', 'Nice'] ['  Excellent 👌👌👌👌Heat problem', \"  Really good product for its price among all other dongles available in the market. Found it easy to set up the connection and then use it. I didn't find any signal loss with 2 connections , a mobile and a laptop. it may effect with more than 2 devices as tested now. over all its good as an alternative for regular broadband connection when the usage is limited to office or education. I find it very feasible for my requirement and am more than happy with this device.\", '  Excellent!Even when jio network has lower signal strength, jiofi works fine.Design is so helpful when help to avoid damage.', '  Good', '  Got a used product. The upper cover was already open.', \"  I received the product today and it's not at all power on.  Shall I return it?\", \"  Don't buy no any offer available on this JioFi.\", '  always need power source except every thing is good', '  Does not work', '  Good.'] [datetime.datetime(2020, 10, 25, 0, 0), datetime.datetime(2020, 10, 25, 0, 0), datetime.datetime(2020, 10, 24, 0, 0), datetime.datetime(2020, 10, 24, 0, 0), datetime.datetime(2020, 10, 24, 0, 0), datetime.datetime(2020, 10, 24, 0, 0), datetime.datetime(2020, 10, 24, 0, 0), datetime.datetime(2020, 10, 24, 0, 0), datetime.datetime(2020, 10, 24, 0, 0), datetime.datetime(2020, 10, 24, 0, 0)] 35\n",
            "35\n",
            "['Helpful', \"Don't buy this model of jiofi .its not worth\", 'Worst experience', 'Waste product', 'BEST PRODUCT IN THIS PRICE RANGE', 'JIOFI POWER BOUND WiFi and PLUG AND PLAY ROUTER WITHOUT BATTERY.', 'Good for Working from Home', 'Ok', 'Poor Data', 'Good'] ['  Very good design and connect to a faster network.', '  Not as expected', '  Worst experience  in first day totally lost networkJiofi 3 better than jio dongle', '  Product Three years back manufacturing there is only directly power socket, not movable.', '  After using for a few days there are the honest reviews1. EASY TO INSTLL2. NO HEATING PROBLEM WITH ORIGINAL CHARGER.3. SIGNALS STRENGTH AND BANDWIDTH COVERAGE IS AWESOME.4. BUILT-IN FEATURE FOR LOW LATENCY GAMING.5. PERSONAL RATING 4.5/5.', '  Your browser does not support HTML5 video.\\n\\n\\n  \\xa0I have already started working with JioFi JDR740 , I found good,AND I HAVE GOT 3 months EXRA INTERNET WITH  349+99 RECHARGING PACK. I have to work with MY LENOVO LAPTOP ,APPLE IPAD2 AS USB PLUG-IN AND PLAY AND ON MY iPhone 11 Pro Max as a JioFi ROUTER ( WiFi ) INSTEAD OF MY FIRST WiFi ROUTER SEE HOW IT IS WORKING,YOU CAN FIND YOUR SELVES.🙏', '  Writing this review after 1 month of usage...Good download and upload speed achieved...Can connect directly to plug as wifi strength is good which covers larger area...No battery hence no need to charge it just plug it in laptop or plug and start using...Note : Only works with Jio sim card...Can insert jio add on postpaid with 599 and above plans...', '  Okok', '  The signal strength is always blue and never green. Even when my mobile signal is full, the dongle signal in that area is blue. Reliance Jio is selling a sub standard product because there is a demand during this covid period. Their good dongles are all out of stock. Feel really cheated', '  Good product and good work this dives akal John shah shsjbdhxbs dish shsjbdhxbs disk Sudhakar shsjbdhxbs she shsjbdhxbs subs sbsbs'] [datetime.datetime(2020, 10, 24, 0, 0), datetime.datetime(2020, 10, 24, 0, 0), datetime.datetime(2020, 10, 24, 0, 0), datetime.datetime(2020, 10, 24, 0, 0), datetime.datetime(2020, 10, 24, 0, 0), datetime.datetime(2020, 10, 24, 0, 0), datetime.datetime(2020, 10, 24, 0, 0), datetime.datetime(2020, 10, 23, 0, 0), datetime.datetime(2020, 10, 23, 0, 0), datetime.datetime(2020, 10, 23, 0, 0)] 36\n",
            "36\n",
            "['Nice', 'Not as expected', 'A must have, who are worried about BATTERY', 'Poor internet', 'Insight based on experience', 'Poor quality', 'Very bad', 'Worst', 'It is just a data card and charged wifi dongle rate', 'Easy to install'] ['  This product is super and awesome', '  Not as expected. There is only 2.4GHZ wifi.There is no option for wps.No battery power.Sim insertion/ejection is not from side, u have to open cover all time.Only Plug n Play is very good.', '  Great product. As promised delivered. Save spending on Battery . Thank you', '  This is not a good product. speed is very poor. sometimes consumes data without any connected devices.', \"  I brought this product to check how it works as I was more dependent on mobile hotspot which would provide 1-2mbps on low lying area. But jiofi doesn't help me out much as it's speed was much lesser than my mobile speed i.e 0.8 Mbps. And for continuous use it was getting hot. I don't understand its use since network was lower than mobile. And it is not value for money. It's my opinion out of experience.\", '  Bed quality', '  Bad', '  Worest network', \"  I thought it is a dongle which can support with wifi when it has charge , but it is battery less device it should be connected to system/laptop/power adopter /power bank to use it's wifi . In simple words it is a data card like 10years back how photon plus ,airtel ,idea data cards used to have . Too much disappointed with the product\", '  Delivery was very fast and Easy to install hope u guys like it too'] [datetime.datetime(2020, 10, 23, 0, 0), datetime.datetime(2020, 10, 23, 0, 0), datetime.datetime(2020, 10, 23, 0, 0), datetime.datetime(2020, 10, 23, 0, 0), datetime.datetime(2020, 10, 23, 0, 0), datetime.datetime(2020, 10, 23, 0, 0), datetime.datetime(2020, 10, 23, 0, 0), datetime.datetime(2020, 10, 23, 0, 0), datetime.datetime(2020, 10, 23, 0, 0), datetime.datetime(2020, 10, 23, 0, 0)] 37\n",
            "37\n",
            "['5MONTHS UNLIMITED DATA & NO SIGNAL IN MY AREA', 'Go ahead', \"It's a awesome product. Working very good\", 'Speed performance is not good', 'DECEPTIVE ADVERTISING!!! NO SIM!!', 'Good', 'Wifi stick is good. Original plug in charger is not proper.', 'Amazon Is very very Good..', 'Good to have', 'Not worth it'] [\"  GUY'S THEY WILL SAY 5 MONTHS UNLIMITED DATA AND VOICE CALL WHILE YOU PURCHASE IT, BUT ONLY 1.5GB/DAY WILL BE GIVEN FOR 5 MONTHS,AND BUY THIS ONLY IF YOU HAVE GOOD JIO SIGNAL STRENGTH IS AVAILABLE, OTHER WISE IT WILL NOT WORKING PROPERLY.\", '  Good ..better.a on / off switch may be given it will be more easy', \"  I was in search of a JioFi for last one month. But there was no JioFi available anywhere. After that I found it on Amazon and I ordered it.It is just mind blowing. It doesn't have battery in it, you have to plugin to power all time. And it will not become hot also after 12 hours plugin even.Talking about speed, I think it gives slightly less speed then phone, when I had performed speed test simultaneously I got 12 mbps on phone and 10 mbps on Jio fi. When we connect multiple devices it gives max speed to first device say 5mbps, for second it gives 2.5mbps and for third it falls to 1mbps, when the average speed for Jiofi is 10mbps.And there was a Free Data Plan offer also with this JioFi for that you have to new sim. I have got a new Jio sim from Jio Store. I have to pay them (Rs. 349+Rs. 99) for 3GB/Day plan for 28 days and I have got extra 3GB/Day plan for 84 days. In total I have got 3GB/Day plan for 112 days in just Rs. 448\", '  Product is coming with 150 mbbs but speed i was getting jus 5 mbbs. Dnt think so its its worthy. When i connect this directly to laptop i was getting 3g speed', '  No sim with 5 month plan was sent as advertised on the product spec sheet.It said u didn’t need another jio Sim and they would send one...I want to return this product if sim is not a part of this package', '  It was good. Although lacked signal in some areas.', '  Product is overall good. Original plug in charger stopped working after three days.', '  nice Product for You From amazon wifi signal is very very nice & product is very Good and adapter is very good and nice aacesries For You fast and free delivery for Mi and useful.... Amazon Is very Good..', '  Amazing backup wifi machine.', '  Bad experienceGetting very low speed .SIM card slot broken after 15days use because it is not handy.Do not take it.'] [datetime.datetime(2020, 10, 23, 0, 0), datetime.datetime(2020, 10, 22, 0, 0), datetime.datetime(2020, 10, 22, 0, 0), datetime.datetime(2020, 10, 22, 0, 0), datetime.datetime(2020, 10, 22, 0, 0), datetime.datetime(2020, 10, 22, 0, 0), datetime.datetime(2020, 10, 22, 0, 0), datetime.datetime(2020, 10, 22, 0, 0), datetime.datetime(2020, 10, 22, 0, 0), datetime.datetime(2020, 10, 21, 0, 0)] 38\n",
            "38\n",
            "['Not even 3g speed i am getting..', 'Best speed', 'Very useful', 'Good single', 'Good.', 'Cheap Good WiFi', 'Awesome', 'Poor signal amplification', 'Very bad service', 'worst product'] ['  Not even 1 Mbps speed i am getting and JIO customer care keeps on saying we are working on the issue and not sure when it will be fixed.', '  Good product', '  Very good signal strength', '  I am very happy and satatufyd', '  Product is good, but while placing order ther is no option to select prepaid or postpaid. Signal capability depends on your area Network.', '  Cheapest Best for Google home or smart. Speaker', \"  It's working absolutely awesome\", '  Signal reception is poor.', '  Worst products not working properly disconnecting in between  ask them to take back still not it done money also not return', '  worst product so far I have bought on Amazon.'] [datetime.datetime(2020, 10, 21, 0, 0), datetime.datetime(2020, 10, 21, 0, 0), datetime.datetime(2020, 10, 21, 0, 0), datetime.datetime(2020, 10, 21, 0, 0), datetime.datetime(2020, 10, 21, 0, 0), datetime.datetime(2020, 10, 20, 0, 0), datetime.datetime(2020, 10, 20, 0, 0), datetime.datetime(2020, 10, 20, 0, 0), datetime.datetime(2020, 10, 20, 0, 0), datetime.datetime(2020, 10, 20, 0, 0)] 39\n",
            "39\n",
            "['Good product', 'Not that good', 'Too bad product', 'Very bad', 'xxxx', 'Good', 'Not', 'Jio dongle', 'One of the worst', 'Wow'] ['  Good product  but sometimes  it gets disconnected  automatically.', '  No good service bought this product for good network but this isnt capable of that so want to cancel order and want to buy other product of same company', '  Signal strength is very low.....', '  Your browser does not support HTML5 video.\\n\\n\\n  \\xa0Nothing special. Go other router works with multiple SIM option .it works only with jio dim', '  hackle free', '  The product is really very good.', '  Nothing better', '  Nice product', '  This jiofi has the worst and very bad and slow internet. I takes hours to download a small sized app. I can’t even load a single website easily. I telling the truth. It will be better if you don’t buy this.', '  Wow'] [datetime.datetime(2020, 10, 20, 0, 0), datetime.datetime(2020, 10, 19, 0, 0), datetime.datetime(2020, 10, 19, 0, 0), datetime.datetime(2020, 10, 19, 0, 0), datetime.datetime(2020, 10, 19, 0, 0), datetime.datetime(2020, 10, 19, 0, 0), datetime.datetime(2020, 10, 19, 0, 0), datetime.datetime(2020, 10, 19, 0, 0), datetime.datetime(2020, 10, 19, 0, 0), datetime.datetime(2020, 10, 19, 0, 0)] 40\n",
            "40\n",
            "['Unable to get offer.', 'Never choose jio', 'Wifi on the way', 'Not worthy', 'Quality', 'Speed not good', 'Not expected this from Jio', 'Got 1949rupees only in amazon festive sale', 'Nice Product', 'I loved it.'] ['  Unable to get offer. When visited Jio store, they said IMEI number is invalid. Does this mean that offer already availed by someone on this IMEI.', \"  Worst experience. Even in Hyderabad you won't get speed. Forget about rural places.\", '  Easy to plug and use.', '  Not worthy', '  Waste not wireless need to connect to adapter or any laptop', '  Speed is not that is mention 150mbpsThis is falseReal speed is very less than this', \"  Very poor. In mobile I'm getting better signal. Using the device this is max as it's written 150mbps is nowhere close. Please don't waste your money on this. Your mobile internet would be far better trust me, this is useless product by jio, so disappointed and unacceptable.\", '  Best jio dongalI will useThen I will give review', '  Portable, a compatible and good product.', \"  Good product, it was easy to setup but jiocall doesn't work, internet speed is average\"] [datetime.datetime(2020, 10, 18, 0, 0), datetime.datetime(2020, 10, 18, 0, 0), datetime.datetime(2020, 10, 18, 0, 0), datetime.datetime(2020, 10, 18, 0, 0), datetime.datetime(2020, 10, 18, 0, 0), datetime.datetime(2020, 10, 18, 0, 0), datetime.datetime(2020, 10, 18, 0, 0), datetime.datetime(2020, 10, 18, 0, 0), datetime.datetime(2020, 10, 18, 0, 0), datetime.datetime(2020, 10, 18, 0, 0)] 41\n",
            "41\n",
            "['Jio dongle', 'Not performing well', 'Speed is not even as hotspot', 'range', 'Not as expected but read the description carefully', 'Nice product', 'Speed was very low, felt like it is mistake to invest in this product.', \"It's a master piece by Jio\", \"OVERALL IT'S VALUE FOR MONEY\", 'Good in the available items in market'] ['  Nice product and easy to use', '  I returned the product and supposing to get my refund, but you have replaced the product. This product is still not performing well.', '  I have not clue why i have bought this product as it is very bad in network reception', '  range is low', \"  Before I review ,  i want to say that  this review is goin to help you alotSo first of all how's the speed I got during my online classes - the max speed in my area is 8mbps , minimum speed - 1mbps and usual speed is - 5mbps . As you have noticed the speed is not too good , Iam a student and my mother is a teacher so we both want to use it for online classes but it cannot provide a good speed to two devices at the same time so only I can use it therefore , I feel pretty bad due to this . But i think for a single person the speed is enough to get clear video and good voice quality during online classes .Built quality - the upper side is good but in the back where we have to open a cap to install the sim there is a huge problem , whenever you want to install a sim it's hard to take off the cap , it seems like it would get broke if you apply more force and still it didn't open , * so overall i wanted to say that if you going to buy this you should not the back cover many times *.My recommendation while thinking you are going to buy this for online classes through Google meet or any other video call app  -If you are the only one going to use its net for class then it should give a good quality Internet access to you .My recommendation for people going to buy this not for online classes - You should go for it as it provides a good speed but if you going to.  * do something requires more intermet then you will definitely go into congestion . *For streaming video - Please don't buy this for streaming videos .Overall experience - For me it doesn't met the expectations , so I want to say that if you want to get a real fast net experience go for a broadband it would provide you very good quality net , I bought bcz there is no broadband options available in my area .\", '  Product is quite good, if battery is available then much better but no battery..😉', \"  Doesn't give that much speed 150mbps which had been mentioned. In short I didn't find this product useful for me.\", \"  Hello guys how are you doing? My geniune opinion about this product.. It's a best Jio fi modem rather than there old jiofi modems.. I have earlier used JMR 541 model but it's not worthy to buy..But when I switched to this model it's really satisfactory to used good speed it's depends on area where you live.. No battery tension which I have faced in JMR 541..just plugged and play easy to use.. And special thanks to the seller earlier I got defective item then I placed replacement order within 48 hours I got brand new item.. I really appreciate seller and amazon services..\", \"  Overall value for money.Working well. Plastic build. Have a small heat issue while using. You can also turn on or turn off the wifi and if you're connected this device directly to a laptop or tv you can use the internet without wifi. And the wifi storage is also working fine. And the internet speed is depends on your location for me I'm getting a good uploading and downloading speed.\", '  -Better than JioFi in speed. JioFi is anyway out of stock.-But device heats up if you are working from home full day and speed goes down after heated up.-Lack of battery is a disadvantage. You need to charge it all the the time you use. Hence no way for cooling down. When heated up.. speed is slowing down.'] [datetime.datetime(2020, 10, 17, 0, 0), datetime.datetime(2020, 10, 17, 0, 0), datetime.datetime(2020, 10, 17, 0, 0), datetime.datetime(2020, 10, 17, 0, 0), datetime.datetime(2020, 10, 17, 0, 0), datetime.datetime(2020, 10, 17, 0, 0), datetime.datetime(2020, 10, 17, 0, 0), datetime.datetime(2020, 10, 16, 0, 0), datetime.datetime(2020, 10, 16, 0, 0), datetime.datetime(2020, 10, 16, 0, 0)] 42\n",
            "42\n",
            "['Good product for internet users.', 'Best dongle of world', '*PLZ READ NEVER EVER BUY IT*', 'Bad', 'Better think before buy use some one for a week', 'This is not good', 'Amazon system didnot helpful for customers.', 'Heating issue', 'goodquality and Value', 'Getting heated'] [\"  If there is a proper signal of jio in your area then go for it. Nice device, I'm using 2 tabs and led tv at same time .my experience was good.\", '  Best dongle as well as router best of best forever and ever Goodnetworks speeds and good features', \"  They are fooling us by writing (150mbps) it didn't increase your internet speed it just help in sharing your internet to 32 devices. The speed of internet depends on your SIM card's speed in your area or it is same as your mobile's SIM speed.So,it is of no use because we all know that JIO's SIM speed cannot ever reach to 150mbps.In my area my JIO SIM speed is 2 to 3mbps.*NEVER EVER BUY IT*\", '  West of money', '  Not collecting good range mobile is better than this', '  This not good in remote areas I recommend not to buy it', \"  This product is not which i want.i want jio wifi router.Your system didn't helpful.Painfull experience.No refund system is nagative system.\", '  After 4hrs of continue usage this device gets heated and stops working', '  Good products', '  Good but getting more heated'] [datetime.datetime(2020, 10, 16, 0, 0), datetime.datetime(2020, 10, 16, 0, 0), datetime.datetime(2020, 10, 16, 0, 0), datetime.datetime(2020, 10, 16, 0, 0), datetime.datetime(2020, 10, 15, 0, 0), datetime.datetime(2020, 10, 15, 0, 0), datetime.datetime(2020, 10, 15, 0, 0), datetime.datetime(2020, 10, 15, 0, 0), datetime.datetime(2020, 10, 15, 0, 0), datetime.datetime(2020, 10, 15, 0, 0)] 43\n",
            "43\n",
            "['Great product', 'Best dongle', 'Good product', 'Value for money', 'Jio dongle', 'Ved bad quality', 'Great Product but failed after a month', 'Good', 'jiofi dongle or jiofi router', 'SUPERB ANF SAFE SERVICES'] ['  Superb device.', '  Very easy to use and good working', '  Its good but its not worth the money', '  It is really good for online class', \"  It is a very waist product I bought this product charging adapter blammed within 10 days so please don't buy it\", '  Internet connection is ded slow🐌', \"  The product was really good but my device is not turning on after using for a month. Thankfully it's under warranty and I hope to get a replacement.\", '  Very good product you can go for it.', \"  Due to unavailability of good models of jiofi router I opted for jiofi dongleThis one is similarly easy to install and if you feel that your place has no network issues then surely go for itBut i am not sure about its connectivity for more than 2 devicesIf you are buying it for personal use like classes and all then its worth buying or else you may regretAnd the price it little higher as compared to facilities they provide so if you can get jiofi router as that is portable n more better than dongles connectivityTill you have some good modles of jiofi router available at shops or online don't opt for dongle but in emergency it a helpful product\", '  Value for money'] [datetime.datetime(2020, 10, 15, 0, 0), datetime.datetime(2020, 10, 15, 0, 0), datetime.datetime(2020, 10, 14, 0, 0), datetime.datetime(2020, 10, 14, 0, 0), datetime.datetime(2020, 10, 14, 0, 0), datetime.datetime(2020, 10, 14, 0, 0), datetime.datetime(2020, 10, 14, 0, 0), datetime.datetime(2020, 10, 14, 0, 0), datetime.datetime(2020, 10, 14, 0, 0), datetime.datetime(2020, 10, 14, 0, 0)] 44\n",
            "44\n",
            "['Excellent wireless 4G dongle with great performance.', 'Good', 'best', 'Not that speed', 'Best', 'Speed very low. Using the SIM in a phone again.', 'Waste of money', 'Excellent Must buy if you are looking for dongle 2.4ghz with adaptor plug and play', 'works directly in usb type A,,,,,  we can also off wifi', 'Very very slow better use mobile hotspot'] ['  Jio Dongle is a really great product. My home internet connect has been having many issues and hence I purchased it. It was really easy to install and really straight forward to connect and use. So much so that I know prefer to use it for my work and general internet usage. The speeds achieved are great too.', '  Good', '  definitely faster', '  The device is quite good but the network strength is very bad. Probably if there are good network strength then it will work fine otherwise speed is horrible.', '  Speed is good,wifi range is super,no heating issues even after continues use.', '  Stopped working after a week. SIM works when used in phone but speed is in KBs when in this JioDongle. No way to return or claim warranty.', \"  I bought this as I broke my phone screen during the lockdown and if for any reason my phone turned off, I would not be able to turn on the hotspot as the screen was dead and would lose my Internet connection.I thought I'd go for a Jiofi as I had paid upfront for a year so could use this as my data connection and also for checking sms on my old number or making calls using the Jio app from my tablet.Being an IT professional, I was able to set it up to my liking and get it up and running quickly. However I noticed several performance degrades and functionality problems when compared with my Android phone hotspot using the same sim.I had setup a remote desktop connection which I could access across the room to connect to my office computer which didn't have a very good keyboard and that stopped working.Secondly, my Jio data connection became unstable from time to time randomly, the data connection would switch off although the WiFi showed aas connected.Another issue was I had setup a hidden WiFi and my laptops need to be manually connected to the WiFi each time I turn them on or wake them up from suspend. They however connect flawlessly to my hidden office network.Finally, in spite of installing the Jio call app thrice ( hoping for an update with a fix), it sees the Jiofi but when it tries to configure it says that service cannot be currently initialized.It's been a while since I've seen such pathetic low quality Chinese hardware. I'm not blaming the Chinese but Jio for being cheap and trying to increase their profit margin at the customer's expense. Needless to say, I'll get rid of their sim once my plan expires.Its 21 deg C where I live and although I connect only 1 device at a time, the dongle heats up quite a lot. The box says that 30 devices can connect. It's good that they didn't claim that you can connect 200.\", '  Purchased Rs 2099 and went to jio store purchased jio sim separately with rs 199 plus rs 99 jioprime after inserting jiosim into dongle first directly into jiodongle got additional offer 5month 1.5gb/day offer along current 199 plan. Go for it good speed getting 9mbps down and 3mbps upload seed must buy if you are looking for dongle 2.4ghz with adaptor. Vary easy to use value for money thanks Jioteam for offer', '  lobbbb', \"  I will write only a single line the fact is your mobile hotspot is at least 5 Times better than the jio dongle just because of it's speed.\"] [datetime.datetime(2020, 10, 13, 0, 0), datetime.datetime(2020, 10, 13, 0, 0), datetime.datetime(2020, 10, 13, 0, 0), datetime.datetime(2020, 10, 13, 0, 0), datetime.datetime(2020, 10, 13, 0, 0), datetime.datetime(2020, 10, 12, 0, 0), datetime.datetime(2020, 10, 12, 0, 0), datetime.datetime(2020, 10, 12, 0, 0), datetime.datetime(2020, 10, 12, 0, 0), datetime.datetime(2020, 10, 12, 0, 0)] 45\n",
            "45\n",
            "['Nice product', 'Much better than any other jiofi', 'Worthy one', 'Waste of money', 'Amazing product.', \"Duplicate product don't buy.\", 'Best', 'Good to buy.', 'Easy to connect', 'very limited features'] ['  Nice product at 2099/-Good for office use.', '  It is the best and latest jiofi and it is only on amazon and not any where, but is Price should be Rs. 1999,here you will not get any battery only plug to laptop and play. It will be better to use it as dongel.for better network.', \"  This is truly value for money.it is much better than jio hotspot because even use it over 12 more hour,it couldn't heat.Nework signal is too good so i didn't seen buffering with it.\", '  Internet speed is same as mobile. If I connect more than one device then speed will reduce and can not use other devices!! Also device will be heat, even use it for 1 hour.', '  Its amazing product. No need to install any drivers just plug it will connect to laptop.When it is connected to laptop it will act as a router so u can connect to both laptop as well as mobile phones.I recommend you to buy this. You can put any jio sim and it will work. It also bundle with charger u can connect to it and use as a router.Better to go with this one instead of buying jio dongle.', '  My mobile hotspot speed is better than this device.', '  Very nice product 👍', \"  Working fine. Easy to install. Sometimes doesn't work due to network issues.\", '  Value to money', \"  Just ok product, heats up, frequent disconnection, can't add Priimary and Secondary dns. Very limited features. In Covid period, telecom and internet product manufacturers have heavily increased the price of products.\"] [datetime.datetime(2020, 10, 12, 0, 0), datetime.datetime(2020, 10, 11, 0, 0), datetime.datetime(2020, 10, 11, 0, 0), datetime.datetime(2020, 10, 11, 0, 0), datetime.datetime(2020, 10, 11, 0, 0), datetime.datetime(2020, 10, 11, 0, 0), datetime.datetime(2020, 10, 10, 0, 0), datetime.datetime(2020, 10, 10, 0, 0), datetime.datetime(2020, 10, 10, 0, 0), datetime.datetime(2020, 10, 9, 0, 0)] 46\n",
            "46\n",
            "['Waste of Money, extremely slow speed', 'It Works fine', 'Device Not working after 3 Weeks', 'Chinese manufacturer', 'Pathetic Product', 'Low speed than your mobile hotspot.', 'Nice Product', 'Useless piece of plastic', 'Super  Network speed like routers ....', 'WORTHLESS PIECE OF J*NK!!!'] ['  Not goodNot good at allAirtel 4G works better.It has 0.5 Mbps download speed and I have a jio tower in 300m radius of my location.This is so disappointingUtter waste of 2K', '  Meets the Expectation', '  The device dead after 3 weeks. It is under warranty and there is no service centers open in Thane. Hence waste of money', '  Surprised that Reliance depends on Chinese manufacturer like Rayson for its dongle instead of making in India.I wanted to buy a Jio dongle but stopped after seeing that manufacturer is a Chinese company', \"  Useless product, couldn't send back due to my busy schedule .... Not at all worth buying\", \"  I used to get 30 mbps speed from my mobile hotspot while using Jio Sim. I thought of buying it so the speed may increase but unfortunately the speed was drowned to 20 mbps while using this Jio Dongle. It's better to use your mobile hotspot rather than buying it. Totally not worth it.\", '  A dongle is a device which is to be connected by USB to your Laptop/Computer etc. to receive internet. A Router receives the internet signals and then transmits it wirelessly over an area. You catch these signals on your Laptop/computer/Mobile as WiFi. Along with your Laptop you can also connect other devices at the same time ( I think more than 5 devices ) to the Router.', \"  Don't ever buy this item it's useless and they don't even have return option\", \"  Since laste 6 month I am working from home use mobile hotspot to much tired bcz of slowness due to network issue . Then I saw on Amazon 😁 this jio hotspot I buy it and try for 7 day's regularly it's awesome products for work from home don't hesitate to buy if u r wfh . Go for it blindly ....now I happy with speed like ninja .....only needed Good Network\", \"  Hi,I got the device a fair while ago and I've been using it with a lot of frustration. The device doesn't deliver faster speeds than .5 Mbps download, and it's just entirely frustrating.I've tried replacing the device once and it's the same issue again.I'm not in an entirely remote area, in fact, I have an airtel sim, that gives me a good 40mbps on my phone, while the closest tower to our place is collectively owned by bsnl and jio.This is just pathetic service. I even tried jio customer care and they don't have an explanation.Seriously, DO NOT BUY THIS PIECE OF J*NK!!THANKS!!\"] [datetime.datetime(2020, 10, 9, 0, 0), datetime.datetime(2020, 10, 9, 0, 0), datetime.datetime(2020, 10, 9, 0, 0), datetime.datetime(2020, 10, 9, 0, 0), datetime.datetime(2020, 10, 9, 0, 0), datetime.datetime(2020, 10, 8, 0, 0), datetime.datetime(2020, 10, 8, 0, 0), datetime.datetime(2020, 10, 8, 0, 0), datetime.datetime(2020, 10, 7, 0, 0), datetime.datetime(2020, 10, 7, 0, 0)] 47\n",
            "47\n",
            "['Expansive', \"Does it's work properly but price is slightly higher.\", 'Good', 'Return device', 'Portable and useful.', 'Worst Product from Jio', 'Replaced damaged device within a week', 'Other SIMS doesnt work', 'Everything good', 'Device is not working properly....Disappointed!!!'] ['  Average but expansive', \"  Does it's work properly but price is slightly higher.\", '  Nice product', '  I want to return this product, please take it back. Due to poor internet connectivity, it is not providing a proper internet. It is value waste for me.', '  Internet speed not as mobile Internet speed. As I compare with my iPhone. During such COVID time, we have to work from home and very helpful.', \"  Tge speed from the wifi is less then 1 Mbps. They advertises the speed upto 150 Mbps, but it's not even 1 Mbps. View for Airtel almost 10 Mbps.Pathetic speed. Really frustrating.  Cant return the item also, it's just replaceable.\", '  Connection was not stable on first device delivered,  Every minute indicator turns red or blue. Amazon replaced the defective device within a week.New device is good and working fine.', '  Other operators SIM will not work in this dongle', '  Good', '  Its just 2 mouth ago i purchased this product ,now it is not working i dont know what is happening!!When i plug in the device it is not showing green or blue or red light.nothing is happening ij device..not able to connect my pcI will not recommend to other users to buy this productWorst !!!!Highly Disappointed'] [datetime.datetime(2020, 10, 7, 0, 0), datetime.datetime(2020, 10, 7, 0, 0), datetime.datetime(2020, 10, 7, 0, 0), datetime.datetime(2020, 10, 7, 0, 0), datetime.datetime(2020, 10, 7, 0, 0), datetime.datetime(2020, 10, 7, 0, 0), datetime.datetime(2020, 10, 6, 0, 0), datetime.datetime(2020, 10, 6, 0, 0), datetime.datetime(2020, 10, 6, 0, 0), datetime.datetime(2020, 10, 6, 0, 0)] 48\n",
            "48\n",
            "['2099 rs Product I purchased for 1150 rs', 'Fast internet browsing is not there', 'Used after hitting', 'Amazing Product!', 'Value for money', 'Memory card slot not working', 'Good value for the item', 'Working good', 'Useless product. Mobile data is much better than this.', 'Value for money'] ['  Awesome speed no connectivity issue easy to install....beneficial for those who do not have jiofiber or broadband connectivity..', '  I am unable t explain that it is not sharing the that much fastt.', '  Hitting problem', '  Great Product....Thank seller', '  Value for money', '  The memory card slot is built in such a way, it cannot accommodate SD memory card. Total loss of money for the memory card I purchased for JIO JDR740.', '  Nice product', '  Good working', \"  In any aspect, it's not worth of money. I didn't find much difference in the speed. In fact, I felt Mobile data better some times. The biggest drawback is, this should always be inserted in the socket for power supply.\", '  Best suitable for laptopNo battery and no bulging issue.'] [datetime.datetime(2020, 10, 6, 0, 0), datetime.datetime(2020, 10, 6, 0, 0), datetime.datetime(2020, 10, 6, 0, 0), datetime.datetime(2020, 10, 5, 0, 0), datetime.datetime(2020, 10, 5, 0, 0), datetime.datetime(2020, 10, 4, 0, 0), datetime.datetime(2020, 10, 4, 0, 0), datetime.datetime(2020, 10, 4, 0, 0), datetime.datetime(2020, 10, 4, 0, 0), datetime.datetime(2020, 10, 4, 0, 0)] 49\n",
            "49\n",
            "['Jiofi is awesome', 'Product review', 'Average Product', 'Jiowifi', 'Average Product', 'Only buy JIOFI if Network quality is better at your area', 'For continue internet connection without charging or battery', 'stopped working', 'Bad product', 'Good'] ['  Product is awesome loved it', '  Product is useful & good', \"  Quick Boot up, sleek design, fast internetDoesn't support usb tethering. WiFi data sharing only.\", '  Value for moneyPure for sure', '  If you are thinking speed would be faster than mobile hotspot nothing like that.  It is all depends on network.  For me mobile hotspot is faster than this device.', \"  1. Only purchase if the network quality is good at your area, other wise it's doesn't worth buying. Will not be getting any priority network or speed and most of the time your mobile hotspot will give better speed.2. Heat's up quickly and data gets consumed fast.3. Please don't refer other reviews claiming fast network or no heating problem.4. If finally buying then please buy 3 GB data plan for first month as you will be getting 3 GB data additional for next 4 or 5 months. For example if you buy plan of 2 GB for first month then you will get additional 2 GB for next 4 months.5. Please don't listen to Jio Center person if they tell you that this additional data plan is not valid.\", '  Good product', '  Jio Fi stopped working within a month. finding it difficult to get a replacement', '  This consumes 2 GB data in no time', '  Nice'] [datetime.datetime(2020, 10, 4, 0, 0), datetime.datetime(2020, 10, 4, 0, 0), datetime.datetime(2020, 10, 4, 0, 0), datetime.datetime(2020, 10, 4, 0, 0), datetime.datetime(2020, 10, 3, 0, 0), datetime.datetime(2020, 10, 3, 0, 0), datetime.datetime(2020, 10, 3, 0, 0), datetime.datetime(2020, 10, 3, 0, 0), datetime.datetime(2020, 10, 3, 0, 0), datetime.datetime(2020, 10, 3, 0, 0)] 50\n",
            "50\n",
            "['BEST PRODUCT', 'Jio Plan Activation', 'Causes headache.', 'Product is good', 'Totalwaste', 'Bad', 'Bad product', 'No inbuilt battery', 'we used this product not refund', 'Nice'] ['  BEST', '  Buy a new sim and say to the shopkeeper that you are going to insert this on a jio device. There are 3 plans which will not be seen in jio app. Only the shopkeeper has to do. The recharge plans are given in description. Once done, DONOT insert in any phone to get OTP for activating. Just insert in the hotspot device. Now call a toll free number which activates only the data(search exatcly the same in google), from the alternate number given while buying the sim. Now you will get free data for atleast 3 months to atmost 5 months depending on the plan you chosen', '  How high is its SAR value? I face headache everytime I plug it in.', '  Good', '  Never fall trap', '  It is too costly item', '  Bad product 6 mbps very low speed internet', '  Not useful. You need power supply if you want to use this device', '  product good no refund this product we used this product so show me gift card  it is good product thank you', '  Value for money'] [datetime.datetime(2020, 10, 3, 0, 0), datetime.datetime(2020, 10, 3, 0, 0), datetime.datetime(2020, 10, 3, 0, 0), datetime.datetime(2020, 10, 2, 0, 0), datetime.datetime(2020, 10, 1, 0, 0), datetime.datetime(2020, 10, 1, 0, 0), datetime.datetime(2020, 10, 1, 0, 0), datetime.datetime(2020, 10, 1, 0, 0), datetime.datetime(2020, 10, 1, 0, 0), datetime.datetime(2020, 10, 1, 0, 0)] 51\n",
            "51\n",
            "['Review', 'Best jio file plz guy buy the jio file ❤️😍😍 osm jio file without battery', 'Worst experience', 'very good product 👌', 'Weak Product', 'Power adaptor not received  along with router', \"Don't buy please. Save your money!\", 'Sim slot sof', 'Boom boom to jio', 'Too Good'] ['  I bought it from Amazon and it stopped working after a month. Unhappy with the product', '  Best jio file without battery 😍😍😍 thanx amazon for the best product', \"  This is he first time ever I am using jio and my experience is worst. This works only when connected to laptop /power socket.. Unlike other routers.. And when I realized this it's been already 12days i am unable to return it.. Can't even get a replacement with a different model when I am ready to pay the diff\", '  Very good product', '  Very Weak Product Sim Tray Cover Just ditattached from dongle very low quality', '  Power adaptor not received  along with router.', \"  Please save your money! Don't buy this!Firstly, jio network is getting very bad internet speeds since past 1 month.Secondly, this device is almost 4 years old!It's manufacturing date is 2017.Itna toh pata hi hoga aapko ki purane device mei bohot purani technology hogi and slow internet chalega.Save your money!\", '  It was soft n brocken sim slot.', '  Firstly, i have heen a huge fan of jio for long time. Once again jio done it . These product is wonderful i use my jio dongle 24 hrs without and rest . It work wonderful and with jio 5 months offer it stand out amazing ,thanks jio .', '  Working very well'] [datetime.datetime(2020, 10, 1, 0, 0), datetime.datetime(2020, 10, 1, 0, 0), datetime.datetime(2020, 10, 1, 0, 0), datetime.datetime(2020, 9, 30, 0, 0), datetime.datetime(2020, 9, 30, 0, 0), datetime.datetime(2020, 9, 30, 0, 0), datetime.datetime(2020, 9, 30, 0, 0), datetime.datetime(2020, 9, 30, 0, 0), datetime.datetime(2020, 9, 30, 0, 0), datetime.datetime(2020, 9, 30, 0, 0)] 52\n",
            "52\n",
            "['Good product', 'Trustful to buy.', 'Useless', 'Disconnect frequently also short range', 'Good product', 'Dont waste 2100', 'Good design, good connectivity, long lasting dongle.', 'Average', 'Good product...but made in china.', 'Not for gamer'] ['  I get the welcome offer from jio, i got 1.5 gb data per day validity 6 months of recharge₹299', \"  It's pretty good. The speed will be like your network coverage and I get almost above 10 Mbps downloading speed. USB type is better than in built battery. I felt some heating issues in initial stage while I connected it to the adapter. It's better to use with adpater which has an output of 5.0V - 1.0 A. White Samsung travel adapter is the best option. The micro SD card is more helpful to transfer files. You can use as an Ethernet connection in your laptop or desktop also.I loved the product. Trustful to buy\", '  Useless. Heating a lot. May fail in one day use.', '  Never...buyDisconnect frequentlyAnd alsoNo refund policy', '  Very nice and good quality product thanks for amazon', '  Worst product dont buy.. my same jio sim works awsome in phone and when inserted in this stupid dongle speed is very low.. I though with dedicated device wifi would be good..', '  Good connectivity, well designed, sleek and lightweight.Having no battery rather fully power operated has advantage over battery operated dongle as it makes it a long lasting device with no hassle of changing battery when battery wears out or have problems of bulging due to overcharging or heating or plug-in, pull-out hassle when fully charged. We can go long hours of uninterrupted work mode without having to keep checking the dongle charging status.Also its feature of being power operated and having no battery in it makes it travel friendly as we can carry it during our flights with no restrictions.As with portability factor, yes there is downside that we always have to look out for a power source, but if we have to use it for work at home or office which requires stable standard connectivity, without much mobility in outside location, it is definitely a good buy.I recommend this jiofi dongle. It is solving my purpose of work. ✌✌', '  A very very average product. Cheap material. But Next versions for jio', '  Good product...but made in china...no other option but have to buy it since no Indian company is manufacturing.', '  Not for gamer'] [datetime.datetime(2020, 9, 30, 0, 0), datetime.datetime(2020, 9, 29, 0, 0), datetime.datetime(2020, 9, 29, 0, 0), datetime.datetime(2020, 9, 29, 0, 0), datetime.datetime(2020, 9, 29, 0, 0), datetime.datetime(2020, 9, 29, 0, 0), datetime.datetime(2020, 9, 28, 0, 0), datetime.datetime(2020, 9, 28, 0, 0), datetime.datetime(2020, 9, 28, 0, 0), datetime.datetime(2020, 9, 28, 0, 0)] 53\n",
            "53\n",
            "['Product is ok', 'Outstanding product', 'Awsome just plug and play & enjoy 10Mbps speed', 'Good dongle', \"It's good but I am facing one sound coming out while plugged in\", 'Missing hotspot', 'Slow as snail 🐌', 'Good product and value for moeny', 'Not working', 'Waste of money'] ['  Bit over price product', '  Really goodExactly wanted like this productReally ossom', '  No installation required. Username and password of wifi already given. Just plug and start enjoying 10-12Mbps speed.', '  Good quality, not heated even plugged in for 24+  hr', \"  After 1 week of use, I must say it's good to have. Only I am facing one sound while plugged in into power. Speed is 4 to 6mbps for download and 3 to 5 Mbps for upload\", '  Did not get the hotspot at all worst from amazon or jio whoever it was', \"  Internet speed is very slow compared to the same sim in mobile phone. It's a very old model launched newly as a dongle.Doesn't recommend.\", '  its a Good product and working well with jio sim.', \"  It's not working properly And initiated for return but no response from amazon people\", '  Khtam'] [datetime.datetime(2020, 9, 28, 0, 0), datetime.datetime(2020, 9, 28, 0, 0), datetime.datetime(2020, 9, 27, 0, 0), datetime.datetime(2020, 9, 27, 0, 0), datetime.datetime(2020, 9, 27, 0, 0), datetime.datetime(2020, 9, 27, 0, 0), datetime.datetime(2020, 9, 27, 0, 0), datetime.datetime(2020, 9, 27, 0, 0), datetime.datetime(2020, 9, 27, 0, 0), datetime.datetime(2020, 9, 27, 0, 0)] 54\n",
            "54\n",
            "[\"Dongle is ok but it's power adaptor is faulty. Unable to insert usb to the adaptor\", 'Worst', 'Worth model', 'Jiofi jdr740', 'Jiofi jdr740', 'Good and reliable product', 'Awesome product', 'Heating', 'This device give only 1 fourth of the real speed', 'Excellent'] [\"  Dongle is ok but it's power adaptor is faulty.\", \"  Worst product don't buy everyone\", '  Not like rauter,its given 2g speed worth product belive that coment not trustable model', '  This is amazing product 👍👍', '  This product not chargeble So product will return as soon as possible', '  Using this Product since one month and it is good and working fine without any issues.', '  If the JIO signal strength was good - then it works like a charm....Its working Awesome for me ....', '  Heating too much. It wont burst when heated. But it will stop working when exceeds 40 degree C.Better to buy other JioFis. Writing this after 3 months of usage.', \"  It doesn't work as expected. Kindly dont waste your money. The speed is 1/4 th of your Jiofi device which is available in market. This is fake product. It doesn't give expected speed\", '  This is one of best,strong device from jiofi jdr740 super power, keep it in inside the door you keep it in 6 to 7 feet hight'] [datetime.datetime(2020, 9, 27, 0, 0), datetime.datetime(2020, 9, 26, 0, 0), datetime.datetime(2020, 9, 26, 0, 0), datetime.datetime(2020, 9, 26, 0, 0), datetime.datetime(2020, 9, 25, 0, 0), datetime.datetime(2020, 9, 25, 0, 0), datetime.datetime(2020, 9, 25, 0, 0), datetime.datetime(2020, 9, 25, 0, 0), datetime.datetime(2020, 9, 25, 0, 0), datetime.datetime(2020, 9, 25, 0, 0)] 55\n",
            "55\n",
            "['Super 💘', 'Go for it', 'Beautiful Product.', 'Connectivity', 'Bad', 'Not worth', 'Missing dongle', 'Good Dongle', 'You can buy', 'Good product'] ['  Sheerness', '  Basically, I brought this for my WfH job. Working good in low network as well.Actually, it saves my job forom being loss.', '  Very good product...easy setup.only jio sim is working.', '  120 mbps what a awful joke', \"  Decent one, would have been great if it has battery backup.Review after 2months(22nd Oct) worst performance. The performance has degraded along time. Don't go for it.\", '  Disappointed, the device stopped working in a week. While the Airtel dongle has been running fine for the last 2 years.', '  Main product is missing. Only received charger. What to do next .........help!', \"  JioDongle is better than Jio-Fi.This statement is based on my previous experience with two JioFis. The first JioFi's board was dead, and the second one I barely used it and returned. The JioFi had inadequate Wi-Fi coverage and low speed. Also, they were overheating due to the inbuilt battery and low-quality board. So I decided to give a try on JioDongle. It seems like the decision was right so far. No overheating problems, no coverage issues, and no inbuilt batter(obviously), which means I should not worry about the battery life in the long term. Just plug it into the power bank of yours and forget.I'm happy!\", '  Close your eyes and go for it,it was just amazing product', '  Good product, working fine.Sim is required to be brought separately.'] [datetime.datetime(2020, 9, 25, 0, 0), datetime.datetime(2020, 9, 25, 0, 0), datetime.datetime(2020, 9, 25, 0, 0), datetime.datetime(2020, 9, 24, 0, 0), datetime.datetime(2020, 9, 24, 0, 0), datetime.datetime(2020, 9, 24, 0, 0), datetime.datetime(2020, 9, 24, 0, 0), datetime.datetime(2020, 9, 24, 0, 0), datetime.datetime(2020, 9, 24, 0, 0), datetime.datetime(2020, 9, 24, 0, 0)] 56\n",
            "56\n",
            "['Super', 'Value For Money', 'Not worth for money', 'Simply awesome', 'Awesome', 'Overall performance is good', 'worthy and original', 'NO SPEED AS OFFERED!!!', 'User friendly', 'Old manufacturing date'] ['  Awesome product', '  The device works great and setups instantly. Fir better speeds use it as a dongle, the speed gets reduced when using as a wifi device', '  Product not working properly', '  Great product', '  Awesome! Must buy and it is value for money. Better than other dongles in market.', '  ProsGood device. No heating issues due to absence of the battery.Simply portable. Just plugin the device in your power supply and you can use it for hours.ConsWhen I compared with the old jio device this one gives less speed in low network areas.', '  best to buy......worthy and usefull', \"  its a very disappointment for me , the speed 150mb/s is only on thier ads. I'm getting only a maximum speed of 2mb or less...if that much speed is okay for you, you can go for it...\", '  Value for money. Satisfied', '  I got this product today and product is good but manufacturing date is of  June 2017.'] [datetime.datetime(2020, 9, 24, 0, 0), datetime.datetime(2020, 9, 23, 0, 0), datetime.datetime(2020, 9, 23, 0, 0), datetime.datetime(2020, 9, 23, 0, 0), datetime.datetime(2020, 9, 23, 0, 0), datetime.datetime(2020, 9, 23, 0, 0), datetime.datetime(2020, 9, 23, 0, 0), datetime.datetime(2020, 9, 23, 0, 0), datetime.datetime(2020, 9, 23, 0, 0), datetime.datetime(2020, 9, 22, 0, 0)] 57\n",
            "57\n",
            "['Dont purchase the item', 'Short of item recived', \"It's really cool\", 'Faulty product', 'Good to buy', 'Superb and also value for money.', \"It's not working\", 'Pathetic.', 'Bad speed', 'Does not heat up. And a surprising offer.'] ['  The product is faulty', '  Received Donegal but their was 1 usb adopter was not found in the box this is second time I have received short of item in the box', \"  It's really very good product delivered by Amazon 👌😊 and come to the quality also very nice final it's really very cool\", '  Damaged cheap quality', '  Good product, But try not to put directly to the power.Put on usb of a device like tv etc.', '  Just go for it.Range is good and there is no heating issue.I am using daily 12 to 14 hours. The heating is negligible.The offer with this product is also very good.I have recharged with 349 r.s. and i have got 3gb/ day for 112 days.Really great device and value for money. If you are looking for any jiofi device just go for it . No issues will be there as there is no battery .Just plug and play device. Really worth buying it.', '  Dislike', '  Not up to the mark....connected to my Samsung Frame TV but speed is just too slow.....', \"  Producer not good don't buy this product speed to 2 mb download and upload 1 mb that's it\", '  Working well. Not heating up. Got 5 months plan for 199 because of buying the device. The offer showed up in myjio app after a couple of days. That effectively reduced the price of the dongle by Rs.800.'] [datetime.datetime(2020, 9, 22, 0, 0), datetime.datetime(2020, 9, 22, 0, 0), datetime.datetime(2020, 9, 22, 0, 0), datetime.datetime(2020, 9, 21, 0, 0), datetime.datetime(2020, 9, 21, 0, 0), datetime.datetime(2020, 9, 21, 0, 0), datetime.datetime(2020, 9, 21, 0, 0), datetime.datetime(2020, 9, 21, 0, 0), datetime.datetime(2020, 9, 21, 0, 0), datetime.datetime(2020, 9, 20, 0, 0)] 58\n",
            "58\n",
            "['Signal not connecting in Laptop when using it on plug point.', 'Not a efficient product as per JIO LTE signal', 'Not a battery. Note the point', 'Waste of time', 'Nyc❤️', 'Fair', 'No use', 'Awesome', 'Not happy', 'Please dont buy it.'] ['  Signal not connecting in Laptop when using it on plug point. I can surf internet when inserting it to the laptop directly through usb port.', '  Not good deal. Product is not efficient as per JIO LTE network. After purchase item from Amazon no return policy if you don’t like the product or it’s efficiency. Only replacement is there which is not workable. Now I have option to work with this devise what ever it’s working or not . Don’t buy', '  Good Product 👍👌👌👌must buy', \"  I don't like.. I want return back.. I want my money back\", '  Good product 😄', '  Fair productSpeed 2mbps', '  No comments', '  Best product', '  Speed is just 1 mbps. No difference between mobile hotspot and this device', '  Please dont buy it.'] [datetime.datetime(2020, 9, 20, 0, 0), datetime.datetime(2020, 9, 20, 0, 0), datetime.datetime(2020, 9, 20, 0, 0), datetime.datetime(2020, 9, 20, 0, 0), datetime.datetime(2020, 9, 20, 0, 0), datetime.datetime(2020, 9, 20, 0, 0), datetime.datetime(2020, 9, 20, 0, 0), datetime.datetime(2020, 9, 20, 0, 0), datetime.datetime(2020, 9, 19, 0, 0), datetime.datetime(2020, 9, 19, 0, 0)] 59\n",
            "59\n",
            "['Not Better than mobile', 'Absolutely worth for money', 'Very poor product', 'Nice products', 'Jio dongle', 'Very Slow..Jio Should Stop Fooling People.... Poor Build Quality..Make In Fool Project', \"Don't go for this\", 'Poor Speed', 'Not good', 'Not worth price.'] ['  Suggestion for you•If you are thinking it gives better network then you are absolutely wrong it gives same network connection as in the mobile,thats why i return this product.', '  Worth for money. Very excellent product. But since there is no battery, there is a require for constant power source ( you can use powerbank incase of power cut). The internet quality it produces is powerful.', '  Jio JDR740 dongle is absolutely useless, does not run on the Internet.  Whatever money we have spent in it, our money was wasted.', \"  Nice 👍item, it's really good\", '  Very good product', '  Very Slow..Jio Should Stop Fooling People.... Poor Build Quality..Make In Fool Project', \"  Don't buy thisPros1mbps speedConsSame speed as your mobile givingHeating very muchDisconnecting automaticallyIf you want to invest 2000 then i suggest you to go for jio fiber (Rs1500)Jio fiber give you 150mbps+ speed (constant)Jio fi -> 1mbps🤞😕\", '  Poor speed, maximum time it does not give even 1 Mbps  speed.', '  Not good Product please dont buy it pleaseeee eeeeeee dont buy it please  p l e a s e .', '  Gives speed which the Sim gives in mobile also.No need to buy.'] [datetime.datetime(2020, 9, 18, 0, 0), datetime.datetime(2020, 9, 18, 0, 0), datetime.datetime(2020, 9, 18, 0, 0), datetime.datetime(2020, 9, 18, 0, 0), datetime.datetime(2020, 9, 18, 0, 0), datetime.datetime(2020, 9, 18, 0, 0), datetime.datetime(2020, 9, 18, 0, 0), datetime.datetime(2020, 9, 17, 0, 0), datetime.datetime(2020, 9, 17, 0, 0), datetime.datetime(2020, 9, 17, 0, 0)] 60\n",
            "60\n",
            "['jio is having network issue alot', 'Poor speed', 'Good Product', 'Better for us...', 'Nice..speed 5mbps', 'Internet backup', 'Please take back  this Jio dongle', 'Worst', 'Jio', \"If you have earlier jmr815 don't go this .\"] ['  jio is having network issue alot', '  Very poor speed, mobile phone hotspot is way better than this.', '  Very good product. Data download speed 25MBPS and Upload speed 6MBPS with wired connection. Very good for WFH. Wifi Strength also good.', '  I like it', '  Nice product...speed is not as that mentioned but works well', \"  It's very helpful for WFH.\", '  This Jio  dongle does not have battery  🔋 and having issue at time Lo SIM card insertion,  slot stopper is damaged so please  take  return  and I want with battery Jio  roater  so please  take back', '  Third class', '  Good product', \"  If you have earlier jmr815 don't go this . Because it's without battery . If jmr remove battery it's equal to same.\"] [datetime.datetime(2020, 9, 17, 0, 0), datetime.datetime(2020, 9, 17, 0, 0), datetime.datetime(2020, 9, 17, 0, 0), datetime.datetime(2020, 9, 17, 0, 0), datetime.datetime(2020, 9, 16, 0, 0), datetime.datetime(2020, 9, 16, 0, 0), datetime.datetime(2020, 9, 15, 0, 0), datetime.datetime(2020, 9, 15, 0, 0), datetime.datetime(2020, 9, 15, 0, 0), datetime.datetime(2020, 9, 14, 0, 0)] 61\n",
            "61\n",
            "[\"DON'T BUY PLEASE\", 'Working stopped from today. 14/09/2020', 'OVER ALL GOOD', 'Good product', 'Good', 'Jio dongle is best in 2020', 'High praice', 'Nice', 'Plz any return available exchange I want with batory wifi', 'Nice product'] [\"  Such a horrible experience. There is no return on this useless thing. No support from jio customer care. It depleted 2.5 gb data in 15 mins and I have no idea how that is even possible at 30 kbps speed.Edit: I got my replacement delivered, it has been working fine for past 3 hours no heating. Incase any issue within next ten days, I'll go for a replacement again because Jio has absolutely no support on this.I had interactions with three customer care agents of jio. First one told me it's  not a jiofi device and said since it's new we have no support for it. Second one dropped the call with no support after hearing the problem. Third one said it's a weird problem please go for replacement. LoL! I had tried reaching customer care for literally three hours and got no response. Jio customer care number  drops call when you send an appeal for human assistance. Jio app was even worse, I replied no no no.... and at last got two ppl aligned to me on chat.Thanks to Amazon for the replacement though 👍.\", '  Not working.', '  GOOD', '  Very good product . Go for it 😀😀😀😀👌👌Believe me!Worth of money.Thanks team jioThanks team to Amazon', '  Good', '  Best', '  Praice to High', \"  Nice product but in night download speed is low. It's help full when you are in home. I have buy =₹2100.\", \"  I think this is with batory I booked. Now I don't want no return policy I disopanted\", '  Good speed and handy dongal. Awesome device at affordable price.Efficient for working from home office activities.Ontime delivery.'] [datetime.datetime(2020, 9, 14, 0, 0), datetime.datetime(2020, 9, 14, 0, 0), datetime.datetime(2020, 9, 14, 0, 0), datetime.datetime(2020, 9, 14, 0, 0), datetime.datetime(2020, 9, 14, 0, 0), datetime.datetime(2020, 9, 14, 0, 0), datetime.datetime(2020, 9, 14, 0, 0), datetime.datetime(2020, 9, 14, 0, 0), datetime.datetime(2020, 9, 13, 0, 0), datetime.datetime(2020, 9, 13, 0, 0)] 62\n",
            "62\n",
            "['Working better than battery dongle', 'Love this jiofi dongle', 'Suitable for lap tab+ mobile but not alone mobile', 'Design of the Product', 'Good 4g dongle for work from home.', 'Mini wifi dongle', 'Nice product', 'Best dongle', 'Worst', 'Overall good product'] ['  If you use internet on laptops PC or You have a power bank go for it. It is much better than battery containing jiofis', '  I really like this product... very good connectivity of internet...and I found 6 month data validity 😀', '  Your browser does not support HTML5 video.\\n\\n\\n  \\xa0Very light in weight with pocket friendly and suitable for computer, lap tab with because of this power connection, need power connection directly so battery is available.You can use it for mobile but not travel friendly for mobiles and yeah if you have lap tab and mobile you can purchase it as connect it to lapy and use wife to mobile during travel.Gives high speed than that battery Jio modem which is heavy and low speed.', '  Product was Good but Somtimes warm....', '  Good product for work from home. I am using it daily in my computer as dongle for five to eight hours and no problem. Have linked some other phones simultaneously without causing any lagging. As it is plug and play, it works instantly in win 7 or win10. If needed, there is a plug also to use as a WiFi router. Minor heating also happens but it works fine.', '  Excellent product. Its a mini wifi modem. Just plug and play. No battery but also works with power bank. I love this jiofi model than other battery type jiofi. I am also got 5 months data plan which worth Rs.1000. i bought it for 2099 and aslo get 200 Amazon pay cashback so effectively got it for 1900 if substact jio data plan worth 1000 finally effective price of the dongle is 900. It is exllent deal. Go for it.', '  Nice product jio hotspot jdr740 price high 500 less and product nice amazon nice delivery thanks amazon 👍 ok ...', \"  It's best for gamers, office work.looking for best dongle go for it.👍👍👍👍👍👍👍👍👍\", \"  Waste of money please don't buy 🙏\", \"  Thanks for prime one day delivery. It's look so nice,You can go for this product.\"] [datetime.datetime(2020, 9, 13, 0, 0), datetime.datetime(2020, 9, 13, 0, 0), datetime.datetime(2020, 9, 13, 0, 0), datetime.datetime(2020, 9, 12, 0, 0), datetime.datetime(2020, 9, 12, 0, 0), datetime.datetime(2020, 9, 11, 0, 0), datetime.datetime(2020, 9, 11, 0, 0), datetime.datetime(2020, 9, 11, 0, 0), datetime.datetime(2020, 9, 11, 0, 0), datetime.datetime(2020, 9, 11, 0, 0)] 63\n",
            "63\n",
            "['Do not buy', 'Ok device..not more than this .', 'Trouble free device', 'Best product', '2-3 day it work gud but after that start giving problem', 'Return my money as soon as possible', 'Good product', 'Nice one', 'Jiofi signal is better than jio sim signal used in mobile', 'Worst experience'] ['  It worked well for one month. after that it began to show true color like other poor quality jio devices. It heats a lot which causes the signal to slow down. Better go for Huawei made dongles.', '  Ok product.. not so good in terms of network speed provider ..go with Airtel for true fast speed. And this device something disconnect from network after just one day  .. only buy if you have a better jio network coverage in your area to save your money. Otherwise use mobile which is similar in terms of network speed.', '  Trouble free device.No battery required,plug & play.Range good.', \"  Very nice product. Keep this in mind if Jio network is good in your area then think of buying. Dont expect high speed if already it's not there but you can expect uninterrupted data for sure with this device.\", '  Dilivery on time . After using 4-5 days it starts giving problem. Singal comes for some minutes and then gone.', '  No value for money and heat fastly', '  Value for money, Good materia quality and Data speed also good.', '  Nice one', '  However it is good value for money,the signal strength it gives is better than using a jio sim in mobile.But it does not gives strong signal so the downloads are very slow.', \"  The worst.  Can get better than this with 2000. By 2 hour's continue i tried to contact with jio customer care.  They picking up transfers call from here to there..  no solution.  Worst experience ever.I was getting same speed of network in my 3g phone...Its not 150 mps.  Its like. 1. 00mpsWorst\"] [datetime.datetime(2020, 9, 10, 0, 0), datetime.datetime(2020, 9, 10, 0, 0), datetime.datetime(2020, 9, 9, 0, 0), datetime.datetime(2020, 9, 9, 0, 0), datetime.datetime(2020, 9, 9, 0, 0), datetime.datetime(2020, 9, 9, 0, 0), datetime.datetime(2020, 9, 9, 0, 0), datetime.datetime(2020, 9, 9, 0, 0), datetime.datetime(2020, 9, 9, 0, 0), datetime.datetime(2020, 9, 8, 0, 0)] 64\n",
            "64\n",
            "['Need improvement', \"Don't buy unless\", 'Office like internet.', 'Jiofi songle', 'Just Awesome...!!', 'Where is cable', 'Excellent signal strength', 'Smarty', 'How to Change SSID(Wifi Name) & Password', 'Made a mistake ❓'] ['  Need improvement', \"  If you're buying this thinking this would be faster than your mobile hotspot then don't buy it. The speed is the same\", '  I have experiencing a good but fluctuating jio network in my area, sometime im not even able send a messages on whatsapp.But after start using this jioDongle there is no fluctuation, internet speed n quality is so good n consistent, basically i purchased it for my WFH n it give a superb speed, my phone n laptop(for office work) both are connected simultaneously n again without fluctuating or experiencing any kind of slowness in internet speed, it gives good quality internet in both the devices.Presenting screenVioce callVideo callOn TEAMS appDevelopment on heavy applicationsHeavy sitesIt really gives a office like internet.Not heating issue at all.Best product.', '  Product is good , value for money', '  Superb handy product...❤', '  Dongle is good but it received without cable.', '  Value for money..', '  Value for money', '  Hello Everyone, As some of you provide wrong information regarding the change of SSID and password. I just request all of you to don\\'t disguise someone with wrong information.Anyone can change their jio dongle SSID and password.1. Go to the provided address in manual or simply connect to the network using the password provided with the box and go to 192.168.1.12. All the information are provided here. But if you want to change just click on the login button top right corner and put \"administrator\" as username and password(provided in the manual)3. Now go to setting option and wifi option to change the SSID and password. You can check other options to change as your preference.', \"  Usually I get 500-600kbps on my mobile network.  But now  I only get 32 kbps using  JIOFI on the same sim.  Don't know whether I made an mistake or not  , don't buying it. DADDY MARENGE\"] [datetime.datetime(2020, 9, 8, 0, 0), datetime.datetime(2020, 9, 8, 0, 0), datetime.datetime(2020, 9, 8, 0, 0), datetime.datetime(2020, 9, 7, 0, 0), datetime.datetime(2020, 9, 7, 0, 0), datetime.datetime(2020, 9, 7, 0, 0), datetime.datetime(2020, 9, 5, 0, 0), datetime.datetime(2020, 9, 5, 0, 0), datetime.datetime(2020, 9, 4, 0, 0), datetime.datetime(2020, 9, 4, 0, 0)] 65\n",
            "65\n",
            "['Tremendously Slow Speed, Useless.', 'Good...Super...excellent', 'Worst product', 'This device slows down the internet speed.', 'Good', 'Superb Speed and value for money', 'Awesome & must have', 'Excellent product', 'JIO DONGLE', 'Jio Dongel Stick.'] [\"  Speed is tremendously slow.I have a very old Jio-fi, I thought it will be more better for speed.It's so slow,  I can't use it.\", '  Super...Nice wifi...we enjoying alot...', '  Worst product low speed, my mobile having better speed.Not worth go for Airtel, it may be better.Long back I used airtel 3g dongle it was very good speed.', '  This device slows down the internet speed too much.Compared this by putting the same sim in this device as well as android phone.Phone’s hotspot was much faster.', '  Good product good quality good service in service centre available all jio centre', \"  Don't read any review just buy it, you will never regret.\", '  Value for money.Easy setup.Just get a sim from jio store -put it in ur phone activate it..gets activated in 15 min.Insert the sim in the dongle & then ur set.Love it coz u can even use it as a wifi.Good product .good packing .Thanks Amazon.', '  Its value for money and good thickness with warmth in look. Nice to connect more than 2 devices. Usefull and good product. Timely delivered. Amazon rocks.😆!', '  Wifi dongle coverage is good', '  Jio DongelPros: 1.No need to charge, plug and use.2.Small portable stick.3.can be connected to power bank and laptop or and USB slot , even in tv also.4.Price Rs.2049/-Cons:1 Internal Sim  built technology is outdated which was available in 2009.2.Manufacturing Date.20173.Internet seed range from 0 to 3mbps, where as Jio sim in moto C plus hotspot provide 0 to 5mbps.4.Not useful during electricity cutoff.5.heated within 30 mins of uses.6.Internet speed is minimized for second and third user.'] [datetime.datetime(2020, 9, 4, 0, 0), datetime.datetime(2020, 9, 3, 0, 0), datetime.datetime(2020, 9, 3, 0, 0), datetime.datetime(2020, 9, 3, 0, 0), datetime.datetime(2020, 9, 3, 0, 0), datetime.datetime(2020, 9, 3, 0, 0), datetime.datetime(2020, 9, 2, 0, 0), datetime.datetime(2020, 9, 1, 0, 0), datetime.datetime(2020, 9, 1, 0, 0), datetime.datetime(2020, 9, 1, 0, 0)] 66\n",
            "66\n",
            "['Better for work from home', 'Nice dongle from jio', 'Good compact Dongle', 'Awesome 👌', 'Good one', 'WOW!!!!', 'JIO 5 Months Offer is AVAILABLE..! YEYYY.', 'Good product', 'Good', 'Good dongle  for desktop'] ['  The product is good for people who do work from home .if 2+ devices are connected the net will be slow as same as our hotspot.', '  Fantastic product really enjoying', \"  It's a good compact device. I was looking for a dongle for my laptop for the cases when my broadband doesn't work. Hence I found this JioFi dongle and it's pretty easy to install and use. The only thing I have noticed isnthe Speed and it actually varies from place to place. I am getting around 5-15MBPS speed download speed.\", '  Excellent product and really worth it. Its very easy to setup and no need to worry about the battery. You can use it with the power bank as well. Overall highly recommended.', '  This dongle is nice for using without batry like a modem', '  actually a nice produc!! go for it', \"  For Those WHO ARE SAYING THAT JIO 5 MONTHS OFFER IS NOT APPLICABLE...YOU ALL ARE Misinformed By the Store you visited.I myself Bought to dongle and went to The Jio Store... bought a new connection and recharged with 199 plus 99 Jio Prime and GOT FULL 28 DAYS PLUS 5 MONTHS EXTRA.So...do not listen to the JIO STORE GUYS ..JUST BUY A NEW SIM AND RECHARGE AS PER THE INSTRUCTIONS..now about the JioFI...It's Really Awesome !U can use it as a Dongle and Turn off the WiFI from the settings if u want....Also THIS DONGLE ONLY SUPPORTS 2.5 GHZ...so no Dual channel support...But again what's the use of 5GHz on a Mobile Connection...Buy this...Its really good...plus the JIOFI offer...A great deal.\", '  Good product speed is good to normal use', '  Must buy', '  Use this only with ethernet for a desktop dont use it with wifi connectivity it will exhaust your data'] [datetime.datetime(2020, 9, 1, 0, 0), datetime.datetime(2020, 9, 1, 0, 0), datetime.datetime(2020, 8, 30, 0, 0), datetime.datetime(2020, 8, 30, 0, 0), datetime.datetime(2020, 8, 29, 0, 0), datetime.datetime(2020, 8, 29, 0, 0), datetime.datetime(2020, 8, 28, 0, 0), datetime.datetime(2020, 8, 28, 0, 0), datetime.datetime(2020, 8, 27, 0, 0), datetime.datetime(2020, 8, 27, 0, 0)] 67\n",
            "67\n",
            "['Worth Purchasing', 'Really Good working', 'Wifi not working', 'The product box is empty.', 'Very good', 'good', 'Jio dongle', 'Jio store and customer service worst', 'The seller is disgusting 😒', 'Poor connectivity'] ['  Good device, getting better speed than JioFi.Easy to install. But have only 2.4GHz WiFi band.Better to be use as data card.', '  Working very good and low price compare to other dongle. easy use to direct PC r Laptop and DC mobile charger also. small display also good.SIM slot and SD cord slot is very comfort. but no battery it has,  if the battery is swollen, after a few days it will be a lot of trouble, but it will not have such problems.', '  Not even one month since I purchased it and alredy wifi stopped working', \"  I didn't get the product in the box . The box is empty.\", '  Very good', '  good', '  The product is very nice and awesome network', \"  As per description they mentioned 5months unlimited data and voice, however jio store not accepting this offer..hence don't buy this product..worst jio customer service..\", '  I received the device today . I went to the nearest jio corporate center to take a sim , after purchasing the sim the barcode for the offer activation was shown that its already used. And the device also not working properly. So its not done . I did not expect this from Amazon. Please be aware of the seller.', '  Frequently disconnected.'] [datetime.datetime(2020, 8, 27, 0, 0), datetime.datetime(2020, 8, 27, 0, 0), datetime.datetime(2020, 8, 27, 0, 0), datetime.datetime(2020, 8, 26, 0, 0), datetime.datetime(2020, 8, 26, 0, 0), datetime.datetime(2020, 8, 26, 0, 0), datetime.datetime(2020, 8, 26, 0, 0), datetime.datetime(2020, 8, 25, 0, 0), datetime.datetime(2020, 8, 25, 0, 0), datetime.datetime(2020, 8, 25, 0, 0)] 68\n",
            "68\n",
            "['Great', 'New jio wifi Dongle', 'Great, Happy with Amazone', 'Comes with no battery ! Just plug n play this !', 'Very easy to use', 'Comparison', 'Excellent Product. I just love it.', 'Worthy product 👌', 'Waste of Time', 'Decent performance, average built quality!'] ['  Amazing', '  Hello every oneThis is wifi Dongle with out batteryPlug and play typeWifi strength is very goodBut speed, i use one plus 8 i get very fast internet, but with this bit low, but not that much slow, it is still fast.Build quality - its ok not greatManufacture year - 2017Heating - yes not muchCan i use my regular jio mobile sim  - yesConnect multiple user - yesCan i use with tv - yesHotspot vs wifi - wifi betterHotspot drain battery quickThank you hope it helpful', '  Satisfied', '  This is a plug N play dongle. It needs to be connected to a power source constantly. I dint notice this initially.....and got this dongle thinking it has a battery in them !If u like a plug N play without a battery in them, u can go for this. It looks good....anyways', '  Jiofi dongle is very easy to use and handy', '  Which is better jio wirless jrm540 vs jio dongle jrd740??', '  Good product in this price range. Greater speed.', \"  1. Never used dongle earlier bt considering mobile jio connection, this provides a way better connectivity and speed... No network lagging2. No heating or something like that3. Fast delivery4. Good packing5. U can use it as Router, dongle and pendrive too with insertion of memory card6. Not at all heating after 9 hours of use7. I didn't feel this is consuming more data, rather consuming less data than I was consuming earlier thru mob hotspot for the same work.8. One thing...many benefits9. What else u could expect in 2000rs. No need to think even once before buying....only concern, if u face lot of power issue at your place...there, it's not useful... but If u r going to use it thru laptop plug-in...it's fine..Also, Product I received was imported in 2017.\", \"  I plugged in to my desktop, laptop and also tried adopter but unfortunately it's not showing any signal nor it is blinking.\", '  Works fine once you plug in & play. One minor downside is that the device gets heated-up a lot after few minutes into plugging in. Overall a decent device.'] [datetime.datetime(2020, 8, 25, 0, 0), datetime.datetime(2020, 8, 25, 0, 0), datetime.datetime(2020, 8, 25, 0, 0), datetime.datetime(2020, 8, 24, 0, 0), datetime.datetime(2020, 8, 23, 0, 0), datetime.datetime(2020, 8, 23, 0, 0), datetime.datetime(2020, 8, 21, 0, 0), datetime.datetime(2020, 8, 21, 0, 0), datetime.datetime(2020, 8, 21, 0, 0), datetime.datetime(2020, 8, 21, 0, 0)] 69\n",
            "69\n",
            "['Far Better internet speed. Just go for it.', 'Good product', 'Value for money', 'Nice plug and play router', 'Disappointed', 'Good one', 'Awsome & Mind blowing product', 'Waste of money.totally waste', 'Very slow speed on browsing and streaming', 'Without Jio Dongle'] ['  Far better internet speed than, in mobile phone. You can use it as dongle or hotspot or even both. Best part is the surprise data offer for 3 months..it was nowhere mentioned:)', '  Very very good product...but I got 3years old product..', '  Really nice product.....as it has no battery there is no maintenance required .....if you still want power backup then you can still use it with power bank. Good wifi range and very short boot time after plugging in ....so plug and play .', '  Pros:No battery, no messGood speed as in cellphonesPlug and playCons:2017 manufactured product', '  After buying this Dongle, I went to Jio care. But they are saying Jio 5 months Data + call offer is not applicable in this device. What to do?', '  Meets the expectations.', '  Really Awsome, Mind blowing good product Also Good coverage & connectivity, easy to use. Thanks to Reliance Jio & amazon.Just Plug & Play . Very very useful for work from home.', '  Please dont buy this.mobile hotspot is far better than this.poor signal strength but consuming more data.1 GB exhausted within half and hour.', '  The speed of internet browsing and video streaming is very slow. Jiofi router keeps changing bands from band 3, band 5 and band 40 according to network changes. Band 3 and band 5 give very sluggish speed for internet browsing and video streaming. Band 40 gives excellent speed for this purpose but that selecting band 40 is not in our scope. However, when you will check download and upload speed through speed test, it will always show you high speed. When you want to see Amazon Prime videos, it will always give a message that your internet bandwidth is low. When I inserted the same sim in mobile instead of inserting in JioFi router and created wifi hotspot, all speeds went up. I could seamlessly browse and stream videos in Amazon Prime and Netflix without any fuss. So, judge my review and make purchase accordingly.', '  I have received product without Jio DongleReturned the product n replaced it'] [datetime.datetime(2020, 8, 21, 0, 0), datetime.datetime(2020, 8, 20, 0, 0), datetime.datetime(2020, 8, 20, 0, 0), datetime.datetime(2020, 8, 19, 0, 0), datetime.datetime(2020, 8, 19, 0, 0), datetime.datetime(2020, 8, 19, 0, 0), datetime.datetime(2020, 8, 19, 0, 0), datetime.datetime(2020, 8, 18, 0, 0), datetime.datetime(2020, 8, 18, 0, 0), datetime.datetime(2020, 8, 18, 0, 0)] 70\n",
            "70\n",
            "['Best Jiofi', 'Jio.... Jio.. 👌', 'Very good product', 'Good Product', 'Binod', 'Very good item', 'D-Link CCTV DVR CAN I CONNECT', 'Looks great, works great', 'Useless', 'Jiofi JDR740(Dongle) is just awesome'] ['  Your browser does not support HTML5 video.\\n\\n\\n  \\xa0This JIOFI device is very good. There is no problem of any kind of speed or range. JIO has made a plug and play device directly without the battery. The problem of being is beautifully solved.', '  Very nice product.. value for money.. 👍👍👍', '  Best dongle ever i used... Good speed just go for it.', '  Good Signal reception. Good wifi strength..', '  Binod', '  Very good', '  May I use my D-Line DVR, CCTV', \"  Can be used as a:• Dongle• Data card• Both at the same time• Wireless storage device (not without an  sd card inserted)It however doesn't have an internal battery like other JioFi's.\", '  I purchased this product with the expectation that I will get slightly better signal reception and speed. However getting lower speed than I used to get my mobile..', \"  JioFi JDR740(Dongle) !!It's a awesome product. Working very very good.I was in search of a JioFi for last one month. But there was no JioFi available as per my requirements. After that I found it on Amazon and I ordered it.It is just mind blowing. It doesn't have battery in it, you have to plugin to power all time. And it will not become hot also after 12 hours plugin even.I didn't require any portable Wifi, because I use it to work from home. So it's very helpful for me  to use on my AIO Desktop PC.And there was a Free Data Plan offer also with this JioFi. I have got a new Jio sim from Rilance Store. I have to pay them (Rs. 349+Rs. 99) for 3GB/Day plan for 28 days and I have got extra 3GB/Day plan for 84 days. In total I have got 3GB/Day plan for 112 days in just Rs. 448.\"] [datetime.datetime(2020, 8, 18, 0, 0), datetime.datetime(2020, 8, 17, 0, 0), datetime.datetime(2020, 8, 16, 0, 0), datetime.datetime(2020, 8, 16, 0, 0), datetime.datetime(2020, 8, 16, 0, 0), datetime.datetime(2020, 8, 15, 0, 0), datetime.datetime(2020, 8, 15, 0, 0), datetime.datetime(2020, 8, 14, 0, 0), datetime.datetime(2020, 8, 14, 0, 0), datetime.datetime(2020, 8, 13, 0, 0)] 71\n",
            "71\n",
            "['Nice product', 'Fantastic Jio Dongle, Plug & Play.', 'Thank you Amazon', 'Jio', 'Chinese product', 'Best portable jio dongle( no battery )', 'Superb product', 'Superb Dongle!', \"Doesn't works without plugged\", \"It's a low quality device\"] [\"  It's plug and use. Battery is not there. Quality is very good for regular use, kids online classes, etc. Signal, range and speed is good.\", '  I was searching on Google for a router with a SIM slot. I finally got the Jio Dongle, even without the battery because the battery swells and goes bad after a few months. JioFi JDR740 Dongle is very useful in rural areas. Internet speed is more than 25 Mbps and there is no heat after 1 day of use. Internet speed is good if one connection is added but slower if multiple connections are added. Price 2k.', '  5 star product', \"  Useless don't buy\", '  Though a Chinese product, has steady signal for wifi using JIO sim', \"  First thing if jio sim network is good in your area ,go for it .Best speed in this dongle. it depends on your usage as it didn't consume too much data for moderate works for me.Adopter ratings-- 5V & 1A which won't consume more electricity.(as wifi)In laptop/PC -- same consumption is there so I think it won't drain battery in laptop soon (as dongle)Good product.\", '  Very good product but doesn’t have a  battery ,only works with electricity or directly  with laptop . Close your eyes and buy it . Piece of cake go ahead', \"  Don't think just go for it\", \"  It works only when it is plugged to laptop or adapter which is not mentioned in the description...as there is no return option, it couldn't be made right\", \"  Pros1. SmallCons1. No battery back up2. Even though it's plug and play takes time to start3. Speed usually slow than other jiofi devices (I did comparison)4. If you try to connect more than 4 devices, 1st it takes time to connect and 2nd speed is slower compared to other jiofi\"] [datetime.datetime(2020, 8, 13, 0, 0), datetime.datetime(2020, 8, 13, 0, 0), datetime.datetime(2020, 8, 13, 0, 0), datetime.datetime(2020, 8, 13, 0, 0), datetime.datetime(2020, 8, 12, 0, 0), datetime.datetime(2020, 8, 12, 0, 0), datetime.datetime(2020, 8, 12, 0, 0), datetime.datetime(2020, 8, 11, 0, 0), datetime.datetime(2020, 8, 11, 0, 0), datetime.datetime(2020, 8, 11, 0, 0)] 72\n",
            "72\n",
            "['Nice product', 'Waste product', 'Awesome', 'Good Buy with Consistent Connectivity', 'Best', 'Its not a fake product.. !!!! know the product specifications before buying.!!!!', 'go for it!!', 'Excellent Product', \"Don't Like\", 'Beware, No battery'] [\"  It's awesome product. This jiofi is fast. Just use it as dongle or put it in adapter on charge, it will work.\", '  Please DO NOT purchase this product , Because this device only works with charging ON , if you un-plug the charging it will not work. There is No power source/Battery for this product and they WILL NOT mention it in the product description. If you purchase this product then there is NO Return or Refund ,only replace - that too same product. Speed is also very slow. It is like connect this device always to a charger/laptop/ Powerbank if you un-plug it will NOT WORK.', '  Best product from Jio. Stable and gives around 10mbps. Whereas older jiofi gives around 1mbps in same area.', '  I was desperately waiting for a 4G dongle from jio without battery, so finally it was good to have it. I am not very pleased speed wise as it averages between 1-2 mbps but since jio is upgrading network for 5G so maybe speed will improve going ahead. It is not warming much even after 5-6  hours usage but then i am using only for few days. Overall a good buy at a decent price of 2k.', '  Excellent product. The most cheaper one for its best quality', '  It is not a fake product it is genuine USB portable router for continuous usage for Inverter enabled power supply homes. Battery enabled routers may heat up. But this is plugged in to power adapter and very useful to keep on 24/7 for CCTV remote access through wifi and specially for streaming SMART TVs. It should not be misunderstood with a battery powered dongles.', '  Nice product fomes un a wonderfull box!Here are few pros:Wifi coverage - 5/5 -Outstanding ,even more then Airtel hotspotNetwork bandwidth-4/5 its good, can be used for network level of 75%Look-5/4Over all  a good product!PLUG AND PLAY', '  Nice product. Speed and bandwidth is really good.', '  This jiofi need more internet. My 4 gb data finish within 30 min. We can not return this product. This is not good things.', \"  Good product but has no🔋 battery like jio wifi it is not mentioned in the description. It's like plug and play, anyhow, It would be the great Product if it's more portable.\"] [datetime.datetime(2020, 8, 11, 0, 0), datetime.datetime(2020, 8, 10, 0, 0), datetime.datetime(2020, 8, 10, 0, 0), datetime.datetime(2020, 8, 10, 0, 0), datetime.datetime(2020, 8, 10, 0, 0), datetime.datetime(2020, 8, 9, 0, 0), datetime.datetime(2020, 8, 9, 0, 0), datetime.datetime(2020, 8, 9, 0, 0), datetime.datetime(2020, 8, 8, 0, 0), datetime.datetime(2020, 8, 8, 0, 0)] 73\n",
            "73\n",
            "['Poor', 'Nice device', 'Best product for online classes'] ['  Its getting disconnected at every 10 seconds', '  Nice device', '  Awsome product by jio super speed WiFi comwith dongle 2 use in one we can connect to PCs and we can use as WiFi also'] [datetime.datetime(2020, 8, 8, 0, 0), datetime.datetime(2020, 8, 7, 0, 0), datetime.datetime(2020, 8, 6, 0, 0)] 0\n"
          ],
          "name": "stdout"
        },
        {
          "output_type": "execute_result",
          "data": {
            "text/html": [
              "<div>\n",
              "<style scoped>\n",
              "    .dataframe tbody tr th:only-of-type {\n",
              "        vertical-align: middle;\n",
              "    }\n",
              "\n",
              "    .dataframe tbody tr th {\n",
              "        vertical-align: top;\n",
              "    }\n",
              "\n",
              "    .dataframe thead th {\n",
              "        text-align: right;\n",
              "    }\n",
              "</style>\n",
              "<table border=\"1\" class=\"dataframe\">\n",
              "  <thead>\n",
              "    <tr style=\"text-align: right;\">\n",
              "      <th></th>\n",
              "      <th>Review_title</th>\n",
              "      <th>Review_body</th>\n",
              "      <th>Review_date</th>\n",
              "    </tr>\n",
              "  </thead>\n",
              "  <tbody>\n",
              "    <tr>\n",
              "      <th>0</th>\n",
              "      <td>the signals are pathetic.</td>\n",
              "      <td>the signals are pathetic.</td>\n",
              "      <td>2020-12-02</td>\n",
              "    </tr>\n",
              "    <tr>\n",
              "      <th>1</th>\n",
              "      <td>🤨🤨🤨🤨🤨🤨</td>\n",
              "      <td>🙄🙄🙄🙄🙄</td>\n",
              "      <td>2020-12-01</td>\n",
              "    </tr>\n",
              "    <tr>\n",
              "      <th>2</th>\n",
              "      <td>Don't buy waste of money</td>\n",
              "      <td>Very bad. Doesn't  give speed of even 1kb/sec.</td>\n",
              "      <td>2020-12-01</td>\n",
              "    </tr>\n",
              "    <tr>\n",
              "      <th>3</th>\n",
              "      <td>Old hardware, frequently restarting and unusable.</td>\n",
              "      <td>Initially it was good, after  2 weeks it sta...</td>\n",
              "      <td>2020-12-01</td>\n",
              "    </tr>\n",
              "    <tr>\n",
              "      <th>4</th>\n",
              "      <td>Sufficient for WFH</td>\n",
              "      <td>The speed is sufficient for WFH. We can watc...</td>\n",
              "      <td>2020-12-01</td>\n",
              "    </tr>\n",
              "    <tr>\n",
              "      <th>...</th>\n",
              "      <td>...</td>\n",
              "      <td>...</td>\n",
              "      <td>...</td>\n",
              "    </tr>\n",
              "    <tr>\n",
              "      <th>718</th>\n",
              "      <td>Don't Like</td>\n",
              "      <td>This jiofi need more internet. My 4 gb data ...</td>\n",
              "      <td>2020-08-08</td>\n",
              "    </tr>\n",
              "    <tr>\n",
              "      <th>719</th>\n",
              "      <td>Beware, No battery</td>\n",
              "      <td>Good product but has no🔋 battery like jio wi...</td>\n",
              "      <td>2020-08-08</td>\n",
              "    </tr>\n",
              "    <tr>\n",
              "      <th>720</th>\n",
              "      <td>Poor</td>\n",
              "      <td>Its getting disconnected at every 10 seconds</td>\n",
              "      <td>2020-08-08</td>\n",
              "    </tr>\n",
              "    <tr>\n",
              "      <th>721</th>\n",
              "      <td>Nice device</td>\n",
              "      <td>Nice device</td>\n",
              "      <td>2020-08-07</td>\n",
              "    </tr>\n",
              "    <tr>\n",
              "      <th>722</th>\n",
              "      <td>Best product for online classes</td>\n",
              "      <td>Awsome product by jio super speed WiFi comwi...</td>\n",
              "      <td>2020-08-06</td>\n",
              "    </tr>\n",
              "  </tbody>\n",
              "</table>\n",
              "<p>723 rows × 3 columns</p>\n",
              "</div>"
            ],
            "text/plain": [
              "                                          Review_title  ... Review_date\n",
              "0                            the signals are pathetic.  ...  2020-12-02\n",
              "1                                               🤨🤨🤨🤨🤨🤨  ...  2020-12-01\n",
              "2                             Don't buy waste of money  ...  2020-12-01\n",
              "3    Old hardware, frequently restarting and unusable.  ...  2020-12-01\n",
              "4                                   Sufficient for WFH  ...  2020-12-01\n",
              "..                                                 ...  ...         ...\n",
              "718                                         Don't Like  ...  2020-08-08\n",
              "719                                 Beware, No battery  ...  2020-08-08\n",
              "720                                               Poor  ...  2020-08-08\n",
              "721                                        Nice device  ...  2020-08-07\n",
              "722                    Best product for online classes  ...  2020-08-06\n",
              "\n",
              "[723 rows x 3 columns]"
            ]
          },
          "metadata": {
            "tags": []
          },
          "execution_count": 6
        }
      ]
    },
    {
      "cell_type": "code",
      "metadata": {
        "id": "MhA9t4gLjkVK"
      },
      "source": [
        "pip install emoji\n"
      ],
      "execution_count": null,
      "outputs": []
    },
    {
      "cell_type": "code",
      "metadata": {
        "colab": {
          "base_uri": "https://localhost:8080/"
        },
        "id": "rCs-R4QVrCHT",
        "outputId": "bdf5eb43-530d-4113-fe32-16da0da3f9ec"
      },
      "source": [
        "!apt install -qq enchant"
      ],
      "execution_count": 74,
      "outputs": [
        {
          "output_type": "stream",
          "text": [
            "enchant is already the newest version (1.6.0-11.1).\n",
            "0 upgraded, 0 newly installed, 0 to remove and 14 not upgraded.\n"
          ],
          "name": "stdout"
        }
      ]
    },
    {
      "cell_type": "code",
      "metadata": {
        "colab": {
          "base_uri": "https://localhost:8080/"
        },
        "id": "wKJAnz0QjtcF",
        "outputId": "afeca8b2-7da0-480b-9b92-a3337093b9ed"
      },
      "source": [
        "import emoji\n",
        "import numpy as np\n",
        "import string\n",
        "from nltk.corpus import stopwords\n",
        "nltk.download('stopwords')\n",
        "from nltk.stem import SnowballStemmer\n",
        "from sklearn.feature_extraction.text import CountVectorizer\n",
        "from sklearn.feature_extraction.text import TfidfTransformer\n",
        "from sklearn.cluster import KMeans"
      ],
      "execution_count": 85,
      "outputs": [
        {
          "output_type": "stream",
          "text": [
            "[nltk_data] Downloading package stopwords to /root/nltk_data...\n",
            "[nltk_data]   Package stopwords is already up-to-date!\n"
          ],
          "name": "stdout"
        }
      ]
    },
    {
      "cell_type": "code",
      "metadata": {
        "id": "NhFFmBmpi5wW"
      },
      "source": [
        "def delete_emoji(text):\n",
        "  allchars = text\n",
        "  emoji_list = [c for c in allchars if c in emoji.UNICODE_EMOJI]\n",
        "  clean_text = ' '.join([st for st in text.split() if not any(i in st for i in emoji_list)])\n",
        "  return clean_text\n",
        "\n",
        "def delete_notEnglish(text):\n",
        "  english_words = []\n",
        "  d = enchant.Dict(\"en_US\")\n",
        "  clean_text=' '.join([x for x in text.split() if d.check(x)==True])\n",
        "  return clean_text\n",
        "def delete_punctuation(text):\n",
        "  clean_text=''.join([p for p in text if p not in string.punctuation])\n",
        "  return clean_text\n",
        "\n",
        "\n",
        "# definie function to delete stop words\n",
        "def delete_stopwords(text):\n",
        "  clean_text=' '.join([x for x in text.split() if x.lower() not in stopwords.words(\"english\")]) \n",
        "  return clean_text\n",
        "\n",
        "\n",
        "def stemming(text):\n",
        "  text = text.split()\n",
        "  words = \"\"\n",
        "  for i in text:\n",
        "    stemmer = SnowballStemmer(\"english\")\n",
        "    words =words + (stemmer.stem(i))+\" \"\n",
        "  return words\n",
        "count_vector = CountVectorizer()\n",
        "count_t=count_vector.fit_transform(Reviews['cl_t'])\n",
        "count_b=count_vector.fit_transform(Reviews['cl_b'])\n"
      ],
      "execution_count": 77,
      "outputs": []
    },
    {
      "cell_type": "code",
      "metadata": {
        "id": "a9nNMCzUX0g3"
      },
      "source": [
        "Reviews['em_t']=Reviews['Review_title'].apply(delete_emoji)\n",
        "Reviews['em_b']=Reviews['Review_body'].apply(delete_emoji)\n",
        "Reviews['cl_t']=Reviews['em_t'].apply(delete_notEnglish)\n",
        "Reviews['cl_b']=Reviews['em_b'].apply(delete_notEnglish)\n",
        "Reviews['cl_t'].replace('', np.nan, inplace=True)\n",
        "Reviews['cl_b'].replace('', np.nan, inplace=True)\n",
        "\n",
        "Reviews.dropna(subset=['cl_t'], inplace=True)\n",
        "Reviews.dropna(subset=['cl_b'], inplace=True)\n",
        "\n",
        "Reviews['cl_t']=Reviews['cl_t'].apply(delete_punctuation)\n",
        "Reviews['cl_b']=Reviews['cl_b'].apply(delete_punctuation)\n",
        "\n",
        "Reviews['cl_t']=Reviews['cl_t'].apply(delete_stopwords)\n",
        "Reviews['cl_b']=Reviews['cl_b'].apply(delete_stopwords)\n",
        "\n",
        "Reviews['cl_t']=Reviews['cl_t'].apply(stemming)\n",
        "Reviews['cl_b']=Reviews['cl_b'].apply(stemming)\n",
        "\n",
        "Reviews['cl_t'].replace('', np.nan, inplace=True)\n",
        "Reviews['cl_b'].replace('', np.nan, inplace=True)\n",
        "\n",
        "Reviews.dropna(subset=['cl_t'], inplace=True)\n",
        "Reviews.dropna(subset=['cl_b'], inplace=True)\n",
        "\n",
        "count_vector = CountVectorizer()\n",
        "count_t=count_vector.fit_transform(Reviews['cl_t'])\n",
        "count_b=count_vector.fit_transform(Reviews['cl_b'])\n",
        "\n",
        "t_tfidf = TfidfTransformer().fit_transform(count_t)\n",
        "b_tfidf = TfidfTransformer().fit_transform(count_b)\n",
        "\n"
      ],
      "execution_count": 96,
      "outputs": []
    },
    {
      "cell_type": "code",
      "metadata": {
        "colab": {
          "base_uri": "https://localhost:8080/"
        },
        "id": "rTWAsZEH7jNO",
        "outputId": "08abaaa0-fc4d-49e2-d034-c8263edb33bc"
      },
      "source": [
        "t_tfidf.todense()"
      ],
      "execution_count": 106,
      "outputs": [
        {
          "output_type": "execute_result",
          "data": {
            "text/plain": [
              "matrix([[0., 0., 0., ..., 0., 0., 0.],\n",
              "        [0., 0., 0., ..., 0., 0., 0.],\n",
              "        [0., 0., 0., ..., 0., 0., 0.],\n",
              "        ...,\n",
              "        [0., 0., 0., ..., 0., 0., 0.],\n",
              "        [0., 0., 0., ..., 0., 0., 0.],\n",
              "        [0., 0., 0., ..., 0., 0., 0.]])"
            ]
          },
          "metadata": {
            "tags": []
          },
          "execution_count": 106
        }
      ]
    },
    {
      "cell_type": "code",
      "metadata": {
        "colab": {
          "base_uri": "https://localhost:8080/"
        },
        "id": "bezu5DX97n4I",
        "outputId": "43e6e805-8ae5-45dc-cea0-eb4f99d45bc3"
      },
      "source": [
        "\n"
      ],
      "execution_count": 107,
      "outputs": [
        {
          "output_type": "execute_result",
          "data": {
            "text/plain": [
              "matrix([[0., 0., 0., ..., 0., 0., 0.],\n",
              "        [0., 0., 0., ..., 0., 0., 0.],\n",
              "        [0., 0., 0., ..., 0., 0., 0.],\n",
              "        ...,\n",
              "        [0., 0., 0., ..., 0., 0., 0.],\n",
              "        [0., 0., 0., ..., 0., 0., 0.],\n",
              "        [0., 0., 0., ..., 0., 0., 0.]])"
            ]
          },
          "metadata": {
            "tags": []
          },
          "execution_count": 107
        }
      ]
    },
    {
      "cell_type": "code",
      "metadata": {
        "id": "vJjRK8Fdmw-b"
      },
      "source": [
        "kmeans = KMeans(n_clusters=2, random_state=0)\n",
        "\n",
        "kmeans.fit(t_tfidf)\n",
        "sentiment_t = kmeans.predict(t_tfidf)\n",
        "Reviews['sentiment_title'] = sentiment_t\n",
        "\n",
        "kmeans.fit(b_tfidf)\n",
        "sentiment_b = kmeans.predict(b_tfidf)\n",
        "Reviews['sentiment_body'] = sentiment_b"
      ],
      "execution_count": 97,
      "outputs": []
    },
    {
      "cell_type": "code",
      "metadata": {
        "colab": {
          "base_uri": "https://localhost:8080/"
        },
        "id": "rcAndnU47z5e",
        "outputId": "0c6575c3-9b28-4919-bbd3-e331eae7f577"
      },
      "source": [
        "len(dense_b)"
      ],
      "execution_count": 118,
      "outputs": [
        {
          "output_type": "execute_result",
          "data": {
            "text/plain": [
              "681"
            ]
          },
          "metadata": {
            "tags": []
          },
          "execution_count": 118
        }
      ]
    },
    {
      "cell_type": "code",
      "metadata": {
        "colab": {
          "base_uri": "https://localhost:8080/",
          "height": 382
        },
        "id": "USyIy8Np6hOK",
        "outputId": "0dd08b17-16c6-4679-eeaa-d0cfe007ca1f"
      },
      "source": [
        "kmeans = KMeans(n_clusters=2, random_state=0)\n",
        "dense_t=t_tfidf.todense()\n",
        "dense_b=b_tfidf.todense()\n",
        "kmeans.fit(dense_t,dense_b)\n",
        "\n",
        "sentiment_t = kmeans.predict(dense_t)\n",
        "Reviews['sentiment_title'] = sentiment_t\n",
        "\n",
        "sentiment_b = kmeans.predict(dense_b)\n",
        "Reviews['sentiment_body'] = sentiment_b"
      ],
      "execution_count": 115,
      "outputs": [
        {
          "output_type": "error",
          "ename": "ValueError",
          "evalue": "ignored",
          "traceback": [
            "\u001b[0;31m---------------------------------------------------------------------------\u001b[0m",
            "\u001b[0;31mValueError\u001b[0m                                Traceback (most recent call last)",
            "\u001b[0;32m<ipython-input-115-36fef1ec17f9>\u001b[0m in \u001b[0;36m<module>\u001b[0;34m()\u001b[0m\n\u001b[1;32m      7\u001b[0m \u001b[0mReviews\u001b[0m\u001b[0;34m[\u001b[0m\u001b[0;34m'sentiment_title'\u001b[0m\u001b[0;34m]\u001b[0m \u001b[0;34m=\u001b[0m \u001b[0msentiment_t\u001b[0m\u001b[0;34m\u001b[0m\u001b[0;34m\u001b[0m\u001b[0m\n\u001b[1;32m      8\u001b[0m \u001b[0;34m\u001b[0m\u001b[0m\n\u001b[0;32m----> 9\u001b[0;31m \u001b[0msentiment_b\u001b[0m \u001b[0;34m=\u001b[0m \u001b[0mkmeans\u001b[0m\u001b[0;34m.\u001b[0m\u001b[0mpredict\u001b[0m\u001b[0;34m(\u001b[0m\u001b[0mdense_b\u001b[0m\u001b[0;34m)\u001b[0m\u001b[0;34m\u001b[0m\u001b[0;34m\u001b[0m\u001b[0m\n\u001b[0m\u001b[1;32m     10\u001b[0m \u001b[0mReviews\u001b[0m\u001b[0;34m[\u001b[0m\u001b[0;34m'sentiment_body'\u001b[0m\u001b[0;34m]\u001b[0m \u001b[0;34m=\u001b[0m \u001b[0msentiment_b\u001b[0m\u001b[0;34m\u001b[0m\u001b[0;34m\u001b[0m\u001b[0m\n",
            "\u001b[0;32m/usr/local/lib/python3.6/dist-packages/sklearn/cluster/_kmeans.py\u001b[0m in \u001b[0;36mpredict\u001b[0;34m(self, X, sample_weight)\u001b[0m\n\u001b[1;32m   1085\u001b[0m         \u001b[0mcheck_is_fitted\u001b[0m\u001b[0;34m(\u001b[0m\u001b[0mself\u001b[0m\u001b[0;34m)\u001b[0m\u001b[0;34m\u001b[0m\u001b[0;34m\u001b[0m\u001b[0m\n\u001b[1;32m   1086\u001b[0m \u001b[0;34m\u001b[0m\u001b[0m\n\u001b[0;32m-> 1087\u001b[0;31m         \u001b[0mX\u001b[0m \u001b[0;34m=\u001b[0m \u001b[0mself\u001b[0m\u001b[0;34m.\u001b[0m\u001b[0m_check_test_data\u001b[0m\u001b[0;34m(\u001b[0m\u001b[0mX\u001b[0m\u001b[0;34m)\u001b[0m\u001b[0;34m\u001b[0m\u001b[0;34m\u001b[0m\u001b[0m\n\u001b[0m\u001b[1;32m   1088\u001b[0m         \u001b[0mx_squared_norms\u001b[0m \u001b[0;34m=\u001b[0m \u001b[0mrow_norms\u001b[0m\u001b[0;34m(\u001b[0m\u001b[0mX\u001b[0m\u001b[0;34m,\u001b[0m \u001b[0msquared\u001b[0m\u001b[0;34m=\u001b[0m\u001b[0;32mTrue\u001b[0m\u001b[0;34m)\u001b[0m\u001b[0;34m\u001b[0m\u001b[0;34m\u001b[0m\u001b[0m\n\u001b[1;32m   1089\u001b[0m         return _labels_inertia(X, sample_weight, x_squared_norms,\n",
            "\u001b[0;32m/usr/local/lib/python3.6/dist-packages/sklearn/cluster/_kmeans.py\u001b[0m in \u001b[0;36m_check_test_data\u001b[0;34m(self, X)\u001b[0m\n\u001b[1;32m    815\u001b[0m             raise ValueError(\"Incorrect number of features. \"\n\u001b[1;32m    816\u001b[0m                              \"Got %d features, expected %d\" % (\n\u001b[0;32m--> 817\u001b[0;31m                                  n_features, expected_n_features))\n\u001b[0m\u001b[1;32m    818\u001b[0m \u001b[0;34m\u001b[0m\u001b[0m\n\u001b[1;32m    819\u001b[0m         \u001b[0;32mreturn\u001b[0m \u001b[0mX\u001b[0m\u001b[0;34m\u001b[0m\u001b[0;34m\u001b[0m\u001b[0m\n",
            "\u001b[0;31mValueError\u001b[0m: Incorrect number of features. Got 1134 features, expected 404"
          ]
        }
      ]
    },
    {
      "cell_type": "code",
      "metadata": {
        "colab": {
          "base_uri": "https://localhost:8080/",
          "height": 1000
        },
        "id": "pjG7b9cm3V6w",
        "outputId": "b96acd52-1c8f-4156-9e49-a3631d9b7374"
      },
      "source": [
        "Reviews\n"
      ],
      "execution_count": 119,
      "outputs": [
        {
          "output_type": "execute_result",
          "data": {
            "text/html": [
              "<div>\n",
              "<style scoped>\n",
              "    .dataframe tbody tr th:only-of-type {\n",
              "        vertical-align: middle;\n",
              "    }\n",
              "\n",
              "    .dataframe tbody tr th {\n",
              "        vertical-align: top;\n",
              "    }\n",
              "\n",
              "    .dataframe thead th {\n",
              "        text-align: right;\n",
              "    }\n",
              "</style>\n",
              "<table border=\"1\" class=\"dataframe\">\n",
              "  <thead>\n",
              "    <tr style=\"text-align: right;\">\n",
              "      <th></th>\n",
              "      <th>Review_title</th>\n",
              "      <th>Review_body</th>\n",
              "      <th>Review_date</th>\n",
              "      <th>em_t</th>\n",
              "      <th>em_b</th>\n",
              "      <th>cl_t</th>\n",
              "      <th>cl_b</th>\n",
              "      <th>sentiment_title</th>\n",
              "      <th>sentiment_body</th>\n",
              "      <th>sentiment</th>\n",
              "    </tr>\n",
              "  </thead>\n",
              "  <tbody>\n",
              "    <tr>\n",
              "      <th>0</th>\n",
              "      <td>the signals are pathetic.</td>\n",
              "      <td>the signals are pathetic.</td>\n",
              "      <td>2020-12-02</td>\n",
              "      <td>the signals are pathetic.</td>\n",
              "      <td>the signals are pathetic.</td>\n",
              "      <td>signal pathet</td>\n",
              "      <td>signal pathet</td>\n",
              "      <td>0</td>\n",
              "      <td>1</td>\n",
              "      <td>0</td>\n",
              "    </tr>\n",
              "    <tr>\n",
              "      <th>2</th>\n",
              "      <td>Don't buy waste of money</td>\n",
              "      <td>Very bad. Doesn't  give speed of even 1kb/sec.</td>\n",
              "      <td>2020-12-01</td>\n",
              "      <td>Don't buy waste of money</td>\n",
              "      <td>Very bad. Doesn't give speed of even 1kb/sec.</td>\n",
              "      <td>dont buy wast money</td>\n",
              "      <td>bad doesnt give speed even</td>\n",
              "      <td>0</td>\n",
              "      <td>1</td>\n",
              "      <td>0</td>\n",
              "    </tr>\n",
              "    <tr>\n",
              "      <th>3</th>\n",
              "      <td>Old hardware, frequently restarting and unusable.</td>\n",
              "      <td>Initially it was good, after  2 weeks it sta...</td>\n",
              "      <td>2020-12-01</td>\n",
              "      <td>Old hardware, frequently restarting and unusable.</td>\n",
              "      <td>Initially it was good, after 2 weeks it starte...</td>\n",
              "      <td>old frequent restart unus</td>\n",
              "      <td>initi 2 week start restart frequent like everi...</td>\n",
              "      <td>0</td>\n",
              "      <td>1</td>\n",
              "      <td>0</td>\n",
              "    </tr>\n",
              "    <tr>\n",
              "      <th>4</th>\n",
              "      <td>Sufficient for WFH</td>\n",
              "      <td>The speed is sufficient for WFH. We can watc...</td>\n",
              "      <td>2020-12-01</td>\n",
              "      <td>Sufficient for WFH</td>\n",
              "      <td>The speed is sufficient for WFH. We can watch ...</td>\n",
              "      <td>suffici</td>\n",
              "      <td>speed suffici watch youtub without buffer</td>\n",
              "      <td>0</td>\n",
              "      <td>1</td>\n",
              "      <td>0</td>\n",
              "    </tr>\n",
              "    <tr>\n",
              "      <th>5</th>\n",
              "      <td>Not working properly not good condition</td>\n",
              "      <td>Difficult to install</td>\n",
              "      <td>2020-12-01</td>\n",
              "      <td>Not working properly not good condition</td>\n",
              "      <td>Difficult to install</td>\n",
              "      <td>work proper good condit</td>\n",
              "      <td>difficult instal</td>\n",
              "      <td>0</td>\n",
              "      <td>1</td>\n",
              "      <td>0</td>\n",
              "    </tr>\n",
              "    <tr>\n",
              "      <th>...</th>\n",
              "      <td>...</td>\n",
              "      <td>...</td>\n",
              "      <td>...</td>\n",
              "      <td>...</td>\n",
              "      <td>...</td>\n",
              "      <td>...</td>\n",
              "      <td>...</td>\n",
              "      <td>...</td>\n",
              "      <td>...</td>\n",
              "      <td>...</td>\n",
              "    </tr>\n",
              "    <tr>\n",
              "      <th>718</th>\n",
              "      <td>Don't Like</td>\n",
              "      <td>This jiofi need more internet. My 4 gb data ...</td>\n",
              "      <td>2020-08-08</td>\n",
              "      <td>Don't Like</td>\n",
              "      <td>This jiofi need more internet. My 4 gb data fi...</td>\n",
              "      <td>dont like</td>\n",
              "      <td>need internet 4 data finish within 30 min retu...</td>\n",
              "      <td>0</td>\n",
              "      <td>1</td>\n",
              "      <td>0</td>\n",
              "    </tr>\n",
              "    <tr>\n",
              "      <th>719</th>\n",
              "      <td>Beware, No battery</td>\n",
              "      <td>Good product but has no🔋 battery like jio wi...</td>\n",
              "      <td>2020-08-08</td>\n",
              "      <td>Beware, No battery</td>\n",
              "      <td>Good product but has battery like jio wifi it ...</td>\n",
              "      <td>batteri</td>\n",
              "      <td>good product batteri like mention descript lik...</td>\n",
              "      <td>0</td>\n",
              "      <td>1</td>\n",
              "      <td>0</td>\n",
              "    </tr>\n",
              "    <tr>\n",
              "      <th>720</th>\n",
              "      <td>Poor</td>\n",
              "      <td>Its getting disconnected at every 10 seconds</td>\n",
              "      <td>2020-08-08</td>\n",
              "      <td>Poor</td>\n",
              "      <td>Its getting disconnected at every 10 seconds</td>\n",
              "      <td>poor</td>\n",
              "      <td>get disconnect everi 10 second</td>\n",
              "      <td>0</td>\n",
              "      <td>1</td>\n",
              "      <td>0</td>\n",
              "    </tr>\n",
              "    <tr>\n",
              "      <th>721</th>\n",
              "      <td>Nice device</td>\n",
              "      <td>Nice device</td>\n",
              "      <td>2020-08-07</td>\n",
              "      <td>Nice device</td>\n",
              "      <td>Nice device</td>\n",
              "      <td>nice devic</td>\n",
              "      <td>nice devic</td>\n",
              "      <td>0</td>\n",
              "      <td>1</td>\n",
              "      <td>0</td>\n",
              "    </tr>\n",
              "    <tr>\n",
              "      <th>722</th>\n",
              "      <td>Best product for online classes</td>\n",
              "      <td>Awsome product by jio super speed WiFi comwi...</td>\n",
              "      <td>2020-08-06</td>\n",
              "      <td>Best product for online classes</td>\n",
              "      <td>Awsome product by jio super speed WiFi comwith...</td>\n",
              "      <td>best product onlin class</td>\n",
              "      <td>product super speed wifi dongl 2 use one conne...</td>\n",
              "      <td>0</td>\n",
              "      <td>1</td>\n",
              "      <td>0</td>\n",
              "    </tr>\n",
              "  </tbody>\n",
              "</table>\n",
              "<p>681 rows × 10 columns</p>\n",
              "</div>"
            ],
            "text/plain": [
              "                                          Review_title  ... sentiment\n",
              "0                            the signals are pathetic.  ...         0\n",
              "2                             Don't buy waste of money  ...         0\n",
              "3    Old hardware, frequently restarting and unusable.  ...         0\n",
              "4                                   Sufficient for WFH  ...         0\n",
              "5              Not working properly not good condition  ...         0\n",
              "..                                                 ...  ...       ...\n",
              "718                                         Don't Like  ...         0\n",
              "719                                 Beware, No battery  ...         0\n",
              "720                                               Poor  ...         0\n",
              "721                                        Nice device  ...         0\n",
              "722                    Best product for online classes  ...         0\n",
              "\n",
              "[681 rows x 10 columns]"
            ]
          },
          "metadata": {
            "tags": []
          },
          "execution_count": 119
        }
      ]
    },
    {
      "cell_type": "code",
      "metadata": {
        "colab": {
          "base_uri": "https://localhost:8080/",
          "height": 327
        },
        "id": "PkanZgTvk_ZQ",
        "outputId": "1e0502b4-cde4-400c-ffaf-ca4d8b4ad775"
      },
      "source": [
        "che=Reviews[[Reviews['sentiment_title']==0]]"
      ],
      "execution_count": 126,
      "outputs": [
        {
          "output_type": "error",
          "ename": "ValueError",
          "evalue": "ignored",
          "traceback": [
            "\u001b[0;31m---------------------------------------------------------------------------\u001b[0m",
            "\u001b[0;31mValueError\u001b[0m                                Traceback (most recent call last)",
            "\u001b[0;32m<ipython-input-126-6a480cb428bc>\u001b[0m in \u001b[0;36m<module>\u001b[0;34m()\u001b[0m\n\u001b[0;32m----> 1\u001b[0;31m \u001b[0mche\u001b[0m\u001b[0;34m=\u001b[0m\u001b[0mReviews\u001b[0m\u001b[0;34m[\u001b[0m\u001b[0;34m[\u001b[0m\u001b[0mReviews\u001b[0m\u001b[0;34m[\u001b[0m\u001b[0;34m'sentiment_title'\u001b[0m\u001b[0;34m]\u001b[0m\u001b[0;34m==\u001b[0m\u001b[0;36m0\u001b[0m\u001b[0;34m]\u001b[0m\u001b[0;34m]\u001b[0m\u001b[0;34m\u001b[0m\u001b[0;34m\u001b[0m\u001b[0m\n\u001b[0m",
            "\u001b[0;32m/usr/local/lib/python3.6/dist-packages/pandas/core/frame.py\u001b[0m in \u001b[0;36m__getitem__\u001b[0;34m(self, key)\u001b[0m\n\u001b[1;32m   2895\u001b[0m         \u001b[0;31m# Do we have a (boolean) 1d indexer?\u001b[0m\u001b[0;34m\u001b[0m\u001b[0;34m\u001b[0m\u001b[0;34m\u001b[0m\u001b[0m\n\u001b[1;32m   2896\u001b[0m         \u001b[0;32mif\u001b[0m \u001b[0mcom\u001b[0m\u001b[0;34m.\u001b[0m\u001b[0mis_bool_indexer\u001b[0m\u001b[0;34m(\u001b[0m\u001b[0mkey\u001b[0m\u001b[0;34m)\u001b[0m\u001b[0;34m:\u001b[0m\u001b[0;34m\u001b[0m\u001b[0;34m\u001b[0m\u001b[0m\n\u001b[0;32m-> 2897\u001b[0;31m             \u001b[0;32mreturn\u001b[0m \u001b[0mself\u001b[0m\u001b[0;34m.\u001b[0m\u001b[0m_getitem_bool_array\u001b[0m\u001b[0;34m(\u001b[0m\u001b[0mkey\u001b[0m\u001b[0;34m)\u001b[0m\u001b[0;34m\u001b[0m\u001b[0;34m\u001b[0m\u001b[0m\n\u001b[0m\u001b[1;32m   2898\u001b[0m \u001b[0;34m\u001b[0m\u001b[0m\n\u001b[1;32m   2899\u001b[0m         \u001b[0;31m# We are left with two options: a single key, and a collection of keys,\u001b[0m\u001b[0;34m\u001b[0m\u001b[0;34m\u001b[0m\u001b[0;34m\u001b[0m\u001b[0m\n",
            "\u001b[0;32m/usr/local/lib/python3.6/dist-packages/pandas/core/frame.py\u001b[0m in \u001b[0;36m_getitem_bool_array\u001b[0;34m(self, key)\u001b[0m\n\u001b[1;32m   2942\u001b[0m         \u001b[0;32melif\u001b[0m \u001b[0mlen\u001b[0m\u001b[0;34m(\u001b[0m\u001b[0mkey\u001b[0m\u001b[0;34m)\u001b[0m \u001b[0;34m!=\u001b[0m \u001b[0mlen\u001b[0m\u001b[0;34m(\u001b[0m\u001b[0mself\u001b[0m\u001b[0;34m.\u001b[0m\u001b[0mindex\u001b[0m\u001b[0;34m)\u001b[0m\u001b[0;34m:\u001b[0m\u001b[0;34m\u001b[0m\u001b[0;34m\u001b[0m\u001b[0m\n\u001b[1;32m   2943\u001b[0m             raise ValueError(\n\u001b[0;32m-> 2944\u001b[0;31m                 \u001b[0;34mf\"Item wrong length {len(key)} instead of {len(self.index)}.\"\u001b[0m\u001b[0;34m\u001b[0m\u001b[0;34m\u001b[0m\u001b[0m\n\u001b[0m\u001b[1;32m   2945\u001b[0m             )\n\u001b[1;32m   2946\u001b[0m \u001b[0;34m\u001b[0m\u001b[0m\n",
            "\u001b[0;31mValueError\u001b[0m: Item wrong length 1 instead of 681."
          ]
        }
      ]
    },
    {
      "cell_type": "code",
      "metadata": {
        "colab": {
          "base_uri": "https://localhost:8080/"
        },
        "id": "wDUTvLoz9ijp",
        "outputId": "b42b3387-9047-42d1-cbf0-d2d91a7191bd"
      },
      "source": [
        "check"
      ],
      "execution_count": 122,
      "outputs": [
        {
          "output_type": "execute_result",
          "data": {
            "text/plain": [
              "<pandas.core.groupby.generic.DataFrameGroupBy object at 0x7fdb67238470>"
            ]
          },
          "metadata": {
            "tags": []
          },
          "execution_count": 122
        }
      ]
    },
    {
      "cell_type": "markdown",
      "metadata": {
        "id": "Q00nlcGUNKBi"
      },
      "source": [
        ""
      ]
    },
    {
      "cell_type": "code",
      "metadata": {
        "id": "qhMX9Oexq33g"
      },
      "source": [
        "def clean_reviews(title,body):\n",
        "  \n",
        "\n",
        "  "
      ],
      "execution_count": null,
      "outputs": []
    }
  ]
}